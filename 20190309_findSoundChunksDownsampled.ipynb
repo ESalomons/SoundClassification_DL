{
 "cells": [
  {
   "cell_type": "code",
   "execution_count": 1,
   "metadata": {},
   "outputs": [],
   "source": [
    "%reload_ext autoreload\n",
    "from util.soundchunk_util_20190222 import findAndSaveSoundChunks\n",
    "import os\n",
    "import util.WavFileParts as WavFileParts"
   ]
  },
  {
   "cell_type": "code",
   "execution_count": 3,
   "metadata": {},
   "outputs": [
    {
     "name": "stdout",
     "output_type": "stream",
     "text": [
      "written File: 545 - Gunshot : (0.00, 1.40)\n",
      "written File: 545 - Environment : (0.00, 1.40)\n",
      "written File: 545 - Music : (0.00, 1.40)\n",
      "written File: 545 - Voice : (0.00, 1.40)\n",
      "written File: 547 - Gunshot : (2.10, 2.40)\n",
      "written File: 547 - Environment : (2.10, 2.40)\n",
      "written File: 547 - Music : (2.10, 2.40)\n",
      "written File: 547 - Voice : (2.10, 2.40)\n"
     ]
    }
   ],
   "source": [
    "alpha = 0.005\n",
    "thresholdFactor = 1\n",
    "minimalSoundTime = 0.15\n",
    "targetFs = 8000\n",
    "\n",
    "osRecordingsDir='/Volumes/SAA_DATA/datasets/localizationRecordings/'\n",
    "osRecordingsDir = 'E:/SAA_DATA/localizationRecordings/'\n",
    "\n",
    "scTargetBase = 'chunks'\n",
    "if not os.path.isdir(scTargetBase):\n",
    "    os.mkdir(scTargetBase)\n",
    "\n",
    "dirName = scTargetBase + '/G428'\n",
    "datasetDir = osRecordingsDir + '20170221'\n",
    "fileDate = 170221\n",
    "thresholdFileNum = 542\n",
    "thrSilenceStart = 14\n",
    "thrSilenceEnd = 17\n",
    "wavFileParts = WavFileParts.getWavFileParts20170221_G4_28()\n",
    "\n",
    "findAndSaveSoundChunks(wavFileParts,\n",
    "                       dirName,\n",
    "                       datasetDir,\n",
    "                       fileDate,\n",
    "                       thresholdFileNum,\n",
    "                       thrSilenceStart,\n",
    "                       thrSilenceEnd,\n",
    "                       alpha=alpha,\n",
    "                       thresholdfactor=thresholdFactor,\n",
    "                       minimalSoundTime=minimalSoundTime,\n",
    "                       targetFs=targetFs)"
   ]
  },
  {
   "cell_type": "code",
   "execution_count": 2,
   "metadata": {},
   "outputs": [
    {
     "name": "stdout",
     "output_type": "stream",
     "text": [
      "written File: 553 - Gunshot : (1.90, 2.80)\n",
      "written File: 553 - Environment : (1.90, 2.80)\n",
      "written File: 553 - Music : (1.90, 2.80)\n",
      "written File: 553 - Voice : (1.90, 2.80)\n",
      "written File: 740 - Gunshot : (2.00, 4.20)\n",
      "written File: 741 - Environment : (2.00, 4.20)\n",
      "written File: 741 - Music : (2.00, 4.20)\n",
      "written File: 741 - Voice : (2.00, 4.20)\n",
      "written File: 742 - Gunshot : (3.00, 2.00)\n",
      "written File: 744 - Environment : (3.00, 2.00)\n",
      "written File: 744 - Music : (3.00, 2.00)\n",
      "written File: 744 - Voice : (3.00, 2.00)\n",
      "written File: 745 - Gunshot : (1.80, 2.80)\n",
      "written File: 745 - Environment : (1.80, 2.80)\n",
      "written File: 745 - Music : (1.80, 2.80)\n",
      "written File: 745 - Voice : (1.80, 2.80)\n",
      "written File: 746 - Gunshot : (1.50, 1.20)\n",
      "written File: 746 - Environment : (1.50, 1.20)\n",
      "written File: 746 - Music : (1.50, 1.20)\n",
      "written File: 746 - Voice : (1.50, 1.20)\n",
      "written File: 747 - Gunshot : (0.80, 0.80)\n",
      "written File: 747 - Environment : (0.80, 0.80)\n",
      "written File: 747 - Music : (0.80, 0.80)\n",
      "written File: 747 - Voice : (0.80, 0.80)\n",
      "written File: 748 - Gunshot : (0.00, 1.00)\n",
      "written File: 748 - Environment : (0.00, 1.00)\n",
      "written File: 748 - Music : (0.00, 1.00)\n",
      "written File: 748 - Voice : (0.00, 1.00)\n",
      "written File: 740 - Gunshot : (2.00, 4.20)\n",
      "written File: 741 - Environment : (2.00, 4.20)\n",
      "written File: 741 - Music : (2.00, 4.20)\n",
      "written File: 741 - Voice : (2.00, 4.20)\n",
      "written File: 742 - Gunshot : (3.00, 2.00)\n",
      "written File: 744 - Environment : (3.00, 2.00)\n",
      "written File: 744 - Music : (3.00, 2.00)\n",
      "written File: 744 - Voice : (3.00, 2.00)\n",
      "written File: 745 - Gunshot : (1.80, 2.80)\n",
      "written File: 745 - Environment : (1.80, 2.80)\n",
      "written File: 745 - Music : (1.80, 2.80)\n",
      "written File: 745 - Voice : (1.80, 2.80)\n",
      "written File: 746 - Gunshot : (1.50, 1.20)\n",
      "written File: 746 - Environment : (1.50, 1.20)\n",
      "written File: 746 - Music : (1.50, 1.20)\n",
      "written File: 746 - Voice : (1.50, 1.20)\n",
      "written File: 747 - Gunshot : (0.80, 0.80)\n",
      "written File: 747 - Environment : (0.80, 0.80)\n",
      "written File: 747 - Music : (0.80, 0.80)\n",
      "written File: 747 - Voice : (0.80, 0.80)\n",
      "written File: 748 - Gunshot : (0.00, 1.00)\n",
      "written File: 748 - Environment : (0.00, 1.00)\n",
      "written File: 748 - Music : (0.00, 1.00)\n",
      "written File: 748 - Voice : (0.00, 1.00)\n"
     ]
    }
   ],
   "source": [
    "alpha = 0.005\n",
    "thresholdFactor = 1\n",
    "minimalSoundTime = 0.15\n",
    "targetFs = 8000\n",
    "\n",
    "osRecordingsDir='/Volumes/SAA_DATA/datasets/localizationRecordings/'\n",
    "osRecordingsDir = 'E:/SAA_DATA/localizationRecordings/'\n",
    "\n",
    "scTargetBase = 'chunks'\n",
    "if not os.path.isdir(scTargetBase):\n",
    "    os.mkdir(scTargetBase)\n",
    "    \n",
    "dirName = scTargetBase + '/G527'\n",
    "datasetDir = osRecordingsDir + '20170221'\n",
    "fileDate = 170221\n",
    "thresholdFileNum = 551\n",
    "thrSilenceStart = 10\n",
    "thrSilenceEnd = 15\n",
    "\n",
    "wavFileParts = WavFileParts.getWavFileParts20170221_G5_27()\n",
    "findAndSaveSoundChunks(wavFileParts,\n",
    "                       dirName,\n",
    "                       datasetDir,\n",
    "                       fileDate,\n",
    "                       thresholdFileNum,\n",
    "                       thrSilenceStart,\n",
    "                       thrSilenceEnd,\n",
    "                       alpha=alpha,\n",
    "                       thresholdfactor=thresholdFactor,\n",
    "                       minimalSoundTime=minimalSoundTime,\n",
    "                       targetFs=targetFs)\n",
    "\n",
    "\n",
    "dirName = scTargetBase + '/Studio'\n",
    "datasetDir = osRecordingsDir + '20171011'\n",
    "fileDate = 170816\n",
    "thresholdFileNum = 745\n",
    "thrSilenceStart = 1\n",
    "thrSilenceEnd = 2.5\n",
    "\n",
    "wavFileParts = WavFileParts.getWavFileParts20171014_Studio()\n",
    "findAndSaveSoundChunks(wavFileParts,\n",
    "                       dirName,\n",
    "                       datasetDir,\n",
    "                       fileDate,\n",
    "                       thresholdFileNum,\n",
    "                       thrSilenceStart,\n",
    "                       thrSilenceEnd,\n",
    "                       alpha=alpha,\n",
    "                       thresholdfactor=thresholdFactor,\n",
    "                       minimalSoundTime=minimalSoundTime,\n",
    "                       targetFs=targetFs)\n",
    "\n",
    "\n",
    "findAndSaveSoundChunks(wavFileParts,\n",
    "                       dirName,\n",
    "                       datasetDir,\n",
    "                       fileDate,\n",
    "                       thresholdFileNum,\n",
    "                       thrSilenceStart,\n",
    "                       thrSilenceEnd,\n",
    "                       alpha=alpha,\n",
    "                       thresholdfactor=thresholdFactor,\n",
    "                       minimalSoundTime=minimalSoundTime,\n",
    "                       targetFs=targetFs)\n"
   ]
  },
  {
   "cell_type": "code",
   "execution_count": null,
   "metadata": {},
   "outputs": [],
   "source": []
  }
 ],
 "metadata": {
  "kernelspec": {
   "display_name": "Python 3",
   "language": "python",
   "name": "python3"
  },
  "language_info": {
   "codemirror_mode": {
    "name": "ipython",
    "version": 3
   },
   "file_extension": ".py",
   "mimetype": "text/x-python",
   "name": "python",
   "nbconvert_exporter": "python",
   "pygments_lexer": "ipython3",
   "version": "3.6.5"
  },
  "varInspector": {
   "cols": {
    "lenName": 16,
    "lenType": 16,
    "lenVar": 40
   },
   "kernels_config": {
    "python": {
     "delete_cmd_postfix": "",
     "delete_cmd_prefix": "del ",
     "library": "var_list.py",
     "varRefreshCmd": "print(var_dic_list())"
    },
    "r": {
     "delete_cmd_postfix": ") ",
     "delete_cmd_prefix": "rm(",
     "library": "var_list.r",
     "varRefreshCmd": "cat(var_dic_list()) "
    }
   },
   "types_to_exclude": [
    "module",
    "function",
    "builtin_function_or_method",
    "instance",
    "_Feature"
   ],
   "window_display": false
  }
 },
 "nbformat": 4,
 "nbformat_minor": 2
}

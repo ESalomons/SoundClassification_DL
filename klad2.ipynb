{
 "cells": [
  {
   "cell_type": "code",
   "execution_count": 18,
   "metadata": {},
   "outputs": [
    {
     "name": "stderr",
     "output_type": "stream",
     "text": [
      "Using TensorFlow backend.\n"
     ]
    }
   ],
   "source": [
    "import glob\n",
    "import importlib\n",
    "import matplotlib.pyplot as plt\n",
    "import numpy as np\n",
    "import os\n",
    "import pandas as pd\n",
    "import scipy.io.wavfile as wv\n",
    "import scipy.signal as sig\n",
    "import wave\n",
    "from util import util\n",
    "from util import WavFileParts\n",
    "from util.logUtil import LOG, LOG_HEADER\n",
    "from util.confusionMatrix import ConfusionMatrix\n",
    "\n",
    "macDir = '/Volumes/SAA_DATA/datasets/'\n",
    "winDir = 'E:/SAA_DATA/'\n",
    "osDir = winDir\n",
    "if osDir == winDir:\n",
    "    storageFolder = 'E:/SAA_DATA/storedData/'\n",
    "else:\n",
    "    storageFolder = '/Users/etto/Desktop/storedData/'"
   ]
  },
  {
   "cell_type": "code",
   "execution_count": 10,
   "metadata": {},
   "outputs": [],
   "source": [
    "def retrieveTestDataMFCC(storageName, keyName):\n",
    "    filename = storageFolder + storageName + '_MFCC.hd5'\n",
    "    allMfccsDf = pd.read_hdf(path_or_buf=filename, key='mfccs_' + keyName)\n",
    "    classesDf = pd.read_hdf(path_or_buf=filename, key='classes_' + keyName)\n",
    "    return allMfccsDf.values, classesDf.values\n",
    "\n",
    "def retrieveTestData(storageName, NFFT, keyName):\n",
    "    if NFFT == 1024:\n",
    "        filename = storageFolder + storageName + '.hd5'\n",
    "    else:\n",
    "        filename = storageFolder + storageName + '_NFFT{:d}.hd5'.format(NFFT)\n",
    "    specDf = pd.read_hdf(path_or_buf=filename, key='spectros_' + keyName)\n",
    "    classesDf = pd.read_hdf(path_or_buf=filename, key='classes_' + keyName)\n",
    "    return specDf.values, classesDf.values"
   ]
  },
  {
   "cell_type": "code",
   "execution_count": 14,
   "metadata": {},
   "outputs": [
    {
     "name": "stdout",
     "output_type": "stream",
     "text": [
      "(48300, 513)\n"
     ]
    }
   ],
   "source": [
    "testFileName = 'testData_G428'\n",
    "keyname = 'mic4'\n",
    "NFFT = 1024\n",
    "testSpecs, testClasses = retrieveTestData(testFileName, NFFT, keyname)\n",
    "print(np.shape(testSpecs))"
   ]
  },
  {
   "cell_type": "code",
   "execution_count": 19,
   "metadata": {},
   "outputs": [
    {
     "name": "stdout",
     "output_type": "stream",
     "text": [
      "(5913, 1025)\n"
     ]
    }
   ],
   "source": [
    "testFileName = 'testData_G428'\n",
    "keyname = 'mic4'\n",
    "NFFT = 2048\n",
    "testSpecs, testClasses = retrieveTestData(testFileName, NFFT, keyname)\n",
    "print(np.shape(testSpecs))"
   ]
  },
  {
   "cell_type": "code",
   "execution_count": 16,
   "metadata": {},
   "outputs": [
    {
     "name": "stdout",
     "output_type": "stream",
     "text": [
      "(48300, 2049)\n"
     ]
    }
   ],
   "source": [
    "testFileName = 'testData_G428'\n",
    "keyname = 'mic4'\n",
    "NFFT = 4096\n",
    "testSpecs, testClasses = retrieveTestData(testFileName, NFFT, keyname)\n",
    "print(np.shape(testSpecs))"
   ]
  },
  {
   "cell_type": "code",
   "execution_count": 17,
   "metadata": {},
   "outputs": [
    {
     "name": "stdout",
     "output_type": "stream",
     "text": [
      "(7051070, 13)\n"
     ]
    }
   ],
   "source": [
    "testFileName = 'testData_G428_MFCC'\n",
    "keyname = 'mic4'\n",
    "testSpecs, testClasses = retrieveTestDataMFCC(testFileName, keyname)\n",
    "print(np.shape(testSpecs))"
   ]
  },
  {
   "cell_type": "code",
   "execution_count": null,
   "metadata": {},
   "outputs": [],
   "source": [
    "def getFilesPerCatFromMultipleDirs(srcDirs, srcDirsBase=''):\n",
    "    filesPerCat = {}\n",
    "    for dirName in srcDirs:\n",
    "        srcDir = srcDirsBase + '/' + dirName\n",
    "        fpcNw = getFilesPerCategory(srcDir)\n",
    "        if not filesPerCat:\n",
    "            filesPerCat = fpcNw\n",
    "        else:\n",
    "            for key in filesPerCat:\n",
    "                filesPerCat[key] += fpcNw[key]\n",
    "    return filesPerCat\n",
    "\n",
    "def createTrainDataFromSpectros(spectrosPerCat, clzLengths):\n",
    "    X_train = np.concatenate(spectrosPerCat[classes[0]], axis=0)\n",
    "    for i in range(1, len(classes)):\n",
    "        nwSpectros = np.concatenate(spectrosPerCat[classes[i]], axis=0)\n",
    "        X_train = np.concatenate((X_train,nwSpectros), axis=0)\n",
    "    \n",
    "    # one-hot encoding voor Y_train\n",
    "    nrFiles = clzLengths[classes[0]]\n",
    "    Y_train = np.array((np.ones(nrFiles),np.zeros(nrFiles), np.zeros(nrFiles))).T\n",
    "\n",
    "    nrFiles = clzLengths[classes[1]]\n",
    "    Y_train_nw = np.array((np.zeros(nrFiles), np.ones(nrFiles), np.zeros(nrFiles))).T\n",
    "    Y_train = np.concatenate((Y_train, Y_train_nw),axis=0)\n",
    "\n",
    "    nrFiles = clzLengths[classes[2]]\n",
    "    Y_train_nw = np.array((np.zeros(nrFiles), np.zeros(nrFiles), np.ones(nrFiles))).T\n",
    "    Y_train = np.concatenate((Y_train, Y_train_nw),axis=0)\n",
    "    \n",
    "    return X_train, Y_train\n",
    "\n",
    "# Maakt een dictionary aan; per categorie de spectrogrammen\n",
    "def getSpectrosFromFilesPerCategory(filesPerCategory, NFFT):\n",
    "    spectros = {}\n",
    "    for clz in classes:\n",
    "        spectros[clz] = []\n",
    "        for filename in filesPerCategory[clz]:\n",
    "            fs, signal = wv.read(filename)\n",
    "            freq_array, segment_times, spectrogram = sig.spectrogram(x=signal, fs=fs, nfft=NFFT, noverlap=0)\n",
    "            spectros[clz].append(spectrogram.T)\n",
    "    return spectros\n",
    "\n",
    "def getTrainDataFromFolders(orgWavDirs, NFFT):\n",
    "    fpc = getFilesPerCatFromMultipleDirs(orgWavDirs, baseSrcDir)\n",
    "    spcs = getSpectrosFromFilesPerCategory(fpc, NFFT)\n",
    "    clzLengths = getClassLengths(spcs)\n",
    "    X_train, Y_train = createTrainDataFromSpectros(spcs, clzLengths)\n",
    "    # real train classes\n",
    "    realTrainClasses = np.concatenate((np.zeros(clzLengths[classes[0]]), \n",
    "                                  np.ones(clzLengths[classes[1]]), \n",
    "                                  2*np.ones(clzLengths[classes[2]])))\n",
    "    return X_train, Y_train, realTrainClasses"
   ]
  },
  {
   "cell_type": "code",
   "execution_count": null,
   "metadata": {},
   "outputs": [],
   "source": [
    "X_train, Y_train, realTrainClasses = getTrainDataFromFolders(orgWavDirs, NFFT)"
   ]
  }
 ],
 "metadata": {
  "kernelspec": {
   "display_name": "Python 3",
   "language": "python",
   "name": "python3"
  },
  "language_info": {
   "codemirror_mode": {
    "name": "ipython",
    "version": 3
   },
   "file_extension": ".py",
   "mimetype": "text/x-python",
   "name": "python",
   "nbconvert_exporter": "python",
   "pygments_lexer": "ipython3",
   "version": "3.6.5"
  },
  "varInspector": {
   "cols": {
    "lenName": 16,
    "lenType": 16,
    "lenVar": 40
   },
   "kernels_config": {
    "python": {
     "delete_cmd_postfix": "",
     "delete_cmd_prefix": "del ",
     "library": "var_list.py",
     "varRefreshCmd": "print(var_dic_list())"
    },
    "r": {
     "delete_cmd_postfix": ") ",
     "delete_cmd_prefix": "rm(",
     "library": "var_list.r",
     "varRefreshCmd": "cat(var_dic_list()) "
    }
   },
   "types_to_exclude": [
    "module",
    "function",
    "builtin_function_or_method",
    "instance",
    "_Feature"
   ],
   "window_display": false
  }
 },
 "nbformat": 4,
 "nbformat_minor": 2
}

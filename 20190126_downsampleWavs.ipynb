{
 "cells": [
  {
   "cell_type": "code",
   "execution_count": null,
   "metadata": {},
   "outputs": [],
   "source": [
    "%reload_ext autoreload\n",
    "%autoreload 2\n",
    "import util.wav_util as wav_util"
   ]
  },
  {
   "cell_type": "code",
   "execution_count": null,
   "metadata": {},
   "outputs": [],
   "source": [
    "import scipy.io.wavfile as wv\n",
    "import scipy.signal as sig\n",
    "import numpy as np\n",
    "\n",
    "def createDownsampledFile(srcFile, targetFileName, fsTarget):\n",
    "    fsOrg, signal = wv.read(srcFile)\n",
    "    dsSignal = getDownsampledSignal(signal, fsOrg, fsTarget)\n",
    "    wv.write(data=dsSignal, filename=targetFileName, rate=fsTarget)\n",
    "\n",
    "def getDownsampledSignal(signal, fsOrg, fsTarget):\n",
    "    lpSignal = applyLowpassFilter(signal, int(fsTarget / 2), fsOrg)\n",
    "    print('lowpassed')\n",
    "    numSamples = int(fsTarget * 1.0 * len(lpSignal) / fsOrg)\n",
    "    print('numsamples: {}'.format(numSamples))\n",
    "    dsSignal = np.array(sig.resample(lpSignal, numSamples))\n",
    "    print('resampled')\n",
    "    return dsSignal\n",
    "\n",
    "def applyLowpassFilter(signal, hiFrq, fs):\n",
    "    b, a = sig.butter(2, 1.0 * hiFrq / fs)\n",
    "    return sig.lfilter(b, a, signal)"
   ]
  },
  {
   "cell_type": "code",
   "execution_count": null,
   "metadata": {},
   "outputs": [],
   "source": [
    "srcFile = 'E:/SAA_DATA/localizationFiles/20171025AllExtractionsMic4/G428_2.1_2.4/music/music_1.wav'\n",
    "targetFile = 'E:/SAA_DATA/localizationFiles/20190126Downsampled8000/music_1.wav'\n",
    "\n",
    "createDownsampledFile(srcFile, targetFile, 8000)\n",
    "\n",
    "srcFile = 'E:/SAA_DATA/localizationFiles/20171025AllExtractionsMic4/G428_2.1_2.4/music/music_2.wav'\n",
    "targetFile = 'E:/SAA_DATA/localizationFiles/20190126Downsampled8000/music_2.wav'\n",
    "\n",
    "createDownsampledFile(srcFile, targetFile, 8000)\n"
   ]
  },
  {
   "cell_type": "code",
   "execution_count": 1,
   "metadata": {},
   "outputs": [],
   "source": [
    "import librosa"
   ]
  },
  {
   "cell_type": "code",
   "execution_count": 10,
   "metadata": {},
   "outputs": [
    {
     "name": "stdout",
     "output_type": "stream",
     "text": [
      "1248480\n",
      "86.7\n"
     ]
    }
   ],
   "source": [
    "srcFile = 'E:/SAA_DATA/localizationFiles/20171025AllExtractionsMic4/G428_2.1_2.4/music/music_2.wav'\n",
    "data, fs = librosa.load(srcFile, sr=14400)\n",
    "print(len(data))\n",
    "print(len(data) / fs)"
   ]
  },
  {
   "cell_type": "code",
   "execution_count": 5,
   "metadata": {},
   "outputs": [
    {
     "data": {
      "text/plain": [
       "8000"
      ]
     },
     "execution_count": 5,
     "metadata": {},
     "output_type": "execute_result"
    }
   ],
   "source": [
    "fs"
   ]
  },
  {
   "cell_type": "code",
   "execution_count": 6,
   "metadata": {},
   "outputs": [
    {
     "data": {
      "text/plain": [
       "array([-8.1298011e-04, -8.8588735e-05,  1.4846213e-04, ...,\n",
       "       -1.2689307e-03, -1.1747451e-03, -1.0390641e-03], dtype=float32)"
      ]
     },
     "execution_count": 6,
     "metadata": {},
     "output_type": "execute_result"
    }
   ],
   "source": []
  },
  {
   "cell_type": "code",
   "execution_count": 7,
   "metadata": {},
   "outputs": [],
   "source": [
    "targetFile = 'E:/SAA_DATA/localizationFiles/20190126Downsampled8000/music_2.wav'"
   ]
  },
  {
   "cell_type": "code",
   "execution_count": 8,
   "metadata": {},
   "outputs": [],
   "source": [
    "librosa.output.write_wav(targetFile, data, fs)"
   ]
  },
  {
   "cell_type": "code",
   "execution_count": null,
   "metadata": {},
   "outputs": [],
   "source": []
  }
 ],
 "metadata": {
  "kernelspec": {
   "display_name": "Python 3",
   "language": "python",
   "name": "python3"
  },
  "language_info": {
   "codemirror_mode": {
    "name": "ipython",
    "version": 3
   },
   "file_extension": ".py",
   "mimetype": "text/x-python",
   "name": "python",
   "nbconvert_exporter": "python",
   "pygments_lexer": "ipython3",
   "version": "3.6.5"
  }
 },
 "nbformat": 4,
 "nbformat_minor": 2
}

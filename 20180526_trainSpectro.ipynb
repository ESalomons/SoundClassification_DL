{
 "cells": [
  {
   "cell_type": "code",
   "execution_count": 1,
   "metadata": {},
   "outputs": [
    {
     "name": "stderr",
     "output_type": "stream",
     "text": [
      "Using TensorFlow backend.\n"
     ]
    }
   ],
   "source": [
    "%reload_ext autoreload\n",
    "%autoreload 2\n",
    "import os\n",
    "import glob\n",
    "import scipy.io.wavfile as wv\n",
    "import matplotlib.pyplot as plt\n",
    "import numpy as np\n",
    "from util import util\n",
    "import scipy.signal as sig\n",
    "from keras.models import Sequential\n",
    "from keras.layers import Dense"
   ]
  },
  {
   "cell_type": "code",
   "execution_count": 11,
   "metadata": {},
   "outputs": [],
   "source": [
    "classes = ['music', 'voice', 'environment']\n",
    "\n",
    "macDir = '/Volumes/SAA_DATA/datasets/'\n",
    "winDir = 'E:/SAA_DATA/'\n",
    "osDir = winDir\n",
    "\n",
    "baseTargetDir = '/Users/etto/Desktop/pData'\n",
    "baseTargetDir = 'E:/SAA_DATA/targetDir'\n",
    "\n",
    "baseSrcDir = osDir + 'localizationFiles/20171025AllExtractionsMic4'\n",
    "orgWavDirs1 = ['G428_0.0_1.4',\n",
    "              'G527_0.5_1.4',\n",
    "              'Studio_2.0_4.2'\n",
    "              ]\n",
    "\n",
    "orgWavDirs2 = ['G428_2.1_2.4',\n",
    "              'G527_1.2_5.8',\n",
    "              'Studio_3.0_2.0'\n",
    "              ]\n",
    "\n",
    "NFFT = 1024\n",
    "\n",
    "storageFolder = '../storedData/'"
   ]
  },
  {
   "cell_type": "code",
   "execution_count": 3,
   "metadata": {},
   "outputs": [],
   "source": [
    "# Train alleen op 1 van de org dirs\n",
    "srcDir = baseSrcDir + '/' + orgWavDirs1[0]\n",
    "filesPerCategory = {}\n",
    "for catDirLong in glob.glob(srcDir + '/*'):\n",
    "    catDir = catDirLong.replace('\\\\', '/')\n",
    "    catDir = catDir.replace(srcDir + '/', '')\n",
    "    \n",
    "    filesPerCategory[catDir] = []\n",
    "    for filename in glob.glob(catDirLong + '/*'):\n",
    "        filename = filename.replace('\\\\','/')\n",
    "        filesPerCategory[catDir].append(filename)\n"
   ]
  },
  {
   "cell_type": "code",
   "execution_count": 4,
   "metadata": {},
   "outputs": [],
   "source": [
    "# maak spectros van elke file\n",
    "spectros = {}\n",
    "for clz in classes:\n",
    "    spectros[clz] = []\n",
    "    for filename in filesPerCategory[clz]:\n",
    "        fs, signal = wv.read(filename)\n",
    "        freq_array, segment_times, spectrogram = sig.spectrogram(x=signal, fs=fs, nfft=NFFT, noverlap=0)\n",
    "        spectros[clz].append(spectrogram.T)\n",
    "        "
   ]
  },
  {
   "cell_type": "code",
   "execution_count": 5,
   "metadata": {},
   "outputs": [
    {
     "data": {
      "text/plain": [
       "(187316, 513)"
      ]
     },
     "execution_count": 5,
     "metadata": {},
     "output_type": "execute_result"
    }
   ],
   "source": [
    "#alle X achter elkaar in goede volgorde\n",
    "\n",
    "X_train = np.concatenate(spectros[classes[0]], axis=0)\n",
    "for i in range(1, len(classes)):\n",
    "    nwSpectros = np.concatenate(spectros[classes[i]], axis=0)\n",
    "    X_train = np.concatenate((X_train,nwSpectros), axis=0) \n",
    "\n",
    "np.shape(X_train)"
   ]
  },
  {
   "cell_type": "code",
   "execution_count": 6,
   "metadata": {},
   "outputs": [
    {
     "name": "stdout",
     "output_type": "stream",
     "text": [
      "{'music': 60205, 'voice': 60859, 'environment': 66252}\n"
     ]
    }
   ],
   "source": [
    "clzLengths = {}\n",
    "for clz in classes:\n",
    "    clzLengths[clz] = sum([np.shape(lst)[0] for lst in spectros[clz]])\n",
    "print(clzLengths)"
   ]
  },
  {
   "cell_type": "code",
   "execution_count": 7,
   "metadata": {},
   "outputs": [
    {
     "name": "stdout",
     "output_type": "stream",
     "text": [
      "(187316, 3)\n"
     ]
    }
   ],
   "source": [
    "# one-hot encoding\n",
    "clsNr = 0\n",
    "nrFiles = clzLengths[classes[0]]\n",
    "Y_train = np.array((np.ones(nrFiles),np.zeros(nrFiles), np.zeros(nrFiles))).T\n",
    "\n",
    "nrFiles = clzLengths[classes[1]]\n",
    "Y_train_nw = np.array((np.zeros(nrFiles),np.ones(nrFiles), np.zeros(nrFiles))).T\n",
    "Y_train = np.concatenate((Y_train, Y_train_nw),axis=0)\n",
    "\n",
    "nrFiles = clzLengths[classes[2]]\n",
    "Y_train_nw = np.array((np.zeros(nrFiles),np.zeros(nrFiles), np.ones(nrFiles))).T\n",
    "Y_train = np.concatenate((Y_train, Y_train_nw),axis=0)\n",
    "print(np.shape(Y_train))"
   ]
  },
  {
   "cell_type": "markdown",
   "metadata": {},
   "source": [
    "zie https://machinelearningmastery.com/multi-class-classification-tutorial-keras-deep-learning-library/"
   ]
  },
  {
   "cell_type": "code",
   "execution_count": 8,
   "metadata": {},
   "outputs": [],
   "source": [
    "# define baseline model\n",
    "def create_model():\n",
    "    # create model\n",
    "    model = Sequential()\n",
    "    model.add(Dense(100, input_dim=513, activation='relu'))\n",
    "    model.add(Dense(20, activation='relu'))\n",
    "    model.add(Dense(3, activation='softmax'))\n",
    "    # Compile model\n",
    "    model.compile(loss='categorical_crossentropy', optimizer='adam', metrics=['accuracy'])\n",
    "    return model\n"
   ]
  },
  {
   "cell_type": "code",
   "execution_count": 9,
   "metadata": {},
   "outputs": [
    {
     "name": "stdout",
     "output_type": "stream",
     "text": [
      "Epoch 1/5\n",
      "187316/187316 [==============================] - 20s 109us/step - loss: 0.2136 - acc: 0.9209\n",
      "Epoch 2/5\n",
      "187316/187316 [==============================] - 18s 99us/step - loss: 0.1225 - acc: 0.9539\n",
      "Epoch 3/5\n",
      "187316/187316 [==============================] - 18s 98us/step - loss: 0.1019 - acc: 0.9615\n",
      "Epoch 4/5\n",
      "187316/187316 [==============================] - 18s 98us/step - loss: 0.0892 - acc: 0.9662\n",
      "Epoch 5/5\n",
      "187316/187316 [==============================] - 19s 99us/step - loss: 0.0816 - acc: 0.9691\n"
     ]
    }
   ],
   "source": [
    "soundModel = create_model()\n",
    "history = soundModel.fit(X_train, Y_train, epochs=5, shuffle=True, verbose=1)"
   ]
  },
  {
   "cell_type": "code",
   "execution_count": 10,
   "metadata": {},
   "outputs": [
    {
     "data": {
      "image/png": "[encoded data removed]",
      "text/plain": [
       "<Figure size 432x288 with 1 Axes>"
      ]
     },
     "metadata": {},
     "output_type": "display_data"
    }
   ],
   "source": [
    "plt.plot(history.history['loss'])\n",
    "plt.show()"
   ]
  },
  {
   "cell_type": "code",
   "execution_count": 12,
   "metadata": {},
   "outputs": [],
   "source": [
    "soundModel.save(storageFolder + 'prf1.hd5')"
   ]
  },
  {
   "cell_type": "markdown",
   "metadata": {},
   "source": [
    "## evalueer op testdata\n",
    "Waar staat test data?"
   ]
  },
  {
   "cell_type": "code",
   "execution_count": 13,
   "metadata": {},
   "outputs": [],
   "source": [
    "import WavFileParts"
   ]
  },
  {
   "cell_type": "code",
   "execution_count": null,
   "metadata": {},
   "outputs": [],
   "source": []
  }
 ],
 "metadata": {
  "kernelspec": {
   "display_name": "Python 3",
   "language": "python",
   "name": "python3"
  },
  "language_info": {
   "codemirror_mode": {
    "name": "ipython",
    "version": 3
   },
   "file_extension": ".py",
   "mimetype": "text/x-python",
   "name": "python",
   "nbconvert_exporter": "python",
   "pygments_lexer": "ipython3",
   "version": "3.6.5"
  }
 },
 "nbformat": 4,
 "nbformat_minor": 2
}

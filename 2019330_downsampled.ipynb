{
 "cells": [
  {
   "cell_type": "markdown",
   "metadata": {},
   "source": [
    "# Zelfde experiment; eerst downsamplen"
   ]
  },
  {
   "cell_type": "code",
   "execution_count": 8,
   "metadata": {},
   "outputs": [],
   "source": [
    "%reload_ext autoreload\n",
    "%autoreload 2\n",
    "import numpy as np\n",
    "import util.util_20190330 as nb_util"
   ]
  },
  {
   "cell_type": "code",
   "execution_count": 9,
   "metadata": {},
   "outputs": [],
   "source": [
    "classes = ['music', 'voice', 'environment']\n",
    "\n",
    "macDir = '/Volumes/SAA_DATA/datasets/'\n",
    "winDir = 'E:/SAA_DATA/'\n",
    "osDir = winDir\n",
    "recordingDir = osDir + '/localizationRecordings'\n",
    "\n",
    "if osDir == winDir:\n",
    "    storageFolder = 'E:/SAA_DATA/storedData/'\n",
    "else:\n",
    "    storageFolder = '/Users/etto/Desktop/storedData/'\n",
    "\n",
    "baseSrcDir = osDir + 'localizationFiles/20171025AllExtractionsMic4'\n",
    "orgWavDirs1 = ['G428_0.0_1.4',\n",
    "              'G527_0.5_1.4',\n",
    "              'Studio_2.0_4.2'\n",
    "              ]\n",
    "\n",
    "orgWavDirs2 = ['G428_2.1_2.4',\n",
    "              'G527_1.2_5.8',\n",
    "              'Studio_3.0_2.0'\n",
    "              ]\n",
    "\n",
    "orgsG428 = ['G428_0.0_1.4','G428_2.1_2.4']\n",
    "orgsG527 = ['G527_0.5_1.4','G527_1.2_5.8']\n",
    "orgsStudio = ['Studio_2.0_4.2','Studio_3.0_2.0']\n",
    "\n",
    "chunksBaseDir = 'chunks'\n",
    "rooms = ['Studio', 'G428', 'G527']"
   ]
  },
  {
   "cell_type": "markdown",
   "metadata": {},
   "source": [
    "# Centrale parameters: targetFreq, windowLength / NFFT"
   ]
  },
  {
   "cell_type": "code",
   "execution_count": 10,
   "metadata": {},
   "outputs": [],
   "source": [
    "targetFreq = 8000\n",
    "windowLength = 0.032 \n",
    "NFFT = 256"
   ]
  },
  {
   "cell_type": "markdown",
   "metadata": {},
   "source": [
    "### trainen van model obv: alles G428, G527 en Studio"
   ]
  },
  {
   "cell_type": "code",
   "execution_count": 11,
   "metadata": {
    "scrolled": true
   },
   "outputs": [],
   "source": [
    "# Train voor alle lagen\n",
    "baseModelFilename = '20190221_fs_{}_NFFT{}'.format(targetFreq, NFFT)\n",
    "modelFilePath = storageFolder\n",
    "logPrefix = 'Alle orgs'\n",
    "orgWavDirs = orgsG428 + orgsG527 + orgsStudio\n",
    "orgWavDirs = ['G428_2.1_2.4']"
   ]
  },
  {
   "cell_type": "code",
   "execution_count": 12,
   "metadata": {},
   "outputs": [
    {
     "name": "stdout",
     "output_type": "stream",
     "text": [
      "reading E:/SAA_DATA/localizationFiles/20171025AllExtractionsMic4/G428_2.1_2.4/music/music_1.wav\n",
      "reading E:/SAA_DATA/localizationFiles/20171025AllExtractionsMic4/G428_2.1_2.4/music/music_2.wav\n",
      "reading E:/SAA_DATA/localizationFiles/20171025AllExtractionsMic4/G428_2.1_2.4/music/music_3.wav\n",
      "reading E:/SAA_DATA/localizationFiles/20171025AllExtractionsMic4/G428_2.1_2.4/music/music_4.wav\n",
      "reading E:/SAA_DATA/localizationFiles/20171025AllExtractionsMic4/G428_2.1_2.4/voice/voice_1.wav\n",
      "reading E:/SAA_DATA/localizationFiles/20171025AllExtractionsMic4/G428_2.1_2.4/voice/voice_2.wav\n",
      "reading E:/SAA_DATA/localizationFiles/20171025AllExtractionsMic4/G428_2.1_2.4/voice/voice_3.wav\n",
      "reading E:/SAA_DATA/localizationFiles/20171025AllExtractionsMic4/G428_2.1_2.4/voice/voice_4.wav\n",
      "reading E:/SAA_DATA/localizationFiles/20171025AllExtractionsMic4/G428_2.1_2.4/environment/environment_1.wav\n",
      "reading E:/SAA_DATA/localizationFiles/20171025AllExtractionsMic4/G428_2.1_2.4/environment/environment_2.wav\n",
      "reading E:/SAA_DATA/localizationFiles/20171025AllExtractionsMic4/G428_2.1_2.4/environment/environment_3.wav\n",
      "reading E:/SAA_DATA/localizationFiles/20171025AllExtractionsMic4/G428_2.1_2.4/environment/environment_4.wav\n"
     ]
    }
   ],
   "source": [
    "# (orgWavDirs, targetFrq, NFFT, baseSrcDir, classes)\n",
    "X_train, Y_train, realTrainClasses = nb_util.getTrainDataFromFolders(orgWavDirs, targetFreq, NFFT, baseSrcDir, classes)"
   ]
  },
  {
   "cell_type": "code",
   "execution_count": 13,
   "metadata": {},
   "outputs": [
    {
     "data": {
      "text/plain": [
       "(34165, 129)"
      ]
     },
     "execution_count": 13,
     "metadata": {},
     "output_type": "execute_result"
    }
   ],
   "source": [
    "np.shape(X_train)"
   ]
  },
  {
   "cell_type": "code",
   "execution_count": 15,
   "metadata": {},
   "outputs": [
    {
     "data": {
      "text/plain": [
       "array([[1., 0., 0.],\n",
       "       [1., 0., 0.],\n",
       "       [1., 0., 0.],\n",
       "       ...,\n",
       "       [0., 0., 1.],\n",
       "       [0., 0., 1.],\n",
       "       [0., 0., 1.]])"
      ]
     },
     "execution_count": 15,
     "metadata": {},
     "output_type": "execute_result"
    }
   ],
   "source": [
    "Y_train"
   ]
  },
  {
   "cell_type": "raw",
   "metadata": {},
   "source": [
    "# Maak test data\n",
    "LOG_HEADER('maak spectra voor testdata G428, NFFT={}'.format(NFFT), True)\n",
    "wvPts = readSoundChunksDynamic('chunks.G428.soundChunks')\n",
    "baseDir = recordingDir + '/20170221'\n",
    "fileDate = 170221\n",
    "filename = 'testData_G428'\n",
    "for micNr in [1,2,3,4]:\n",
    "    keyname = 'mic{}'.format(micNr)\n",
    "    createAndStoreTestData(wvPts, baseDir, fileDate, micNr, filename, NFFT, keyname)\n",
    "\n",
    "LOG('Klaar: spectra voor testdata G428', True)"
   ]
  },
  {
   "cell_type": "raw",
   "metadata": {},
   "source": [
    "# Maak test data\n",
    "LOG_HEADER('maak spectra voor testdata G527, NFFT={}'.format(NFFT), True)\n",
    "wvPts = readSoundChunksDynamic('chunks.G527.soundChunks')\n",
    "baseDir = recordingDir + '/20170221'\n",
    "fileDate = 170221\n",
    "filename = 'testData_G527'\n",
    "for micNr in [1,2,3,4]:\n",
    "    keyname = 'mic{}'.format(micNr)\n",
    "    createAndStoreTestData(wvPts, baseDir, fileDate, micNr, filename, NFFT, keyname)\n",
    "\n",
    "LOG('Klaar: spectra voor testdata G527', True)"
   ]
  },
  {
   "cell_type": "raw",
   "metadata": {},
   "source": [
    "LOG_HEADER('maak spectra voor testdata Studio, NFFT={}'.format(NFFT), True)\n",
    "wvPts = readSoundChunksDynamic('chunks.Studio.soundChunks')\n",
    "baseDir = recordingDir + '/20171011'\n",
    "fileDate = 170816\n",
    "filename = 'testData_Studio'\n",
    "for micNr in [1,2,3,4]:\n",
    "    keyname = 'mic{}'.format(micNr)\n",
    "    createAndStoreTestData(wvPts, baseDir, fileDate, micNr, filename, NFFT, keyname)\n",
    "\n",
    "LOG('Klaar: spectra voor testdata Studio', True)"
   ]
  },
  {
   "cell_type": "raw",
   "metadata": {},
   "source": [
    "layersList = [[100, 20], [400, 250, 100, 20], [400, 300, 200, 100, 50, 20, 10], \n",
    "              [450, 400, 350, 300, 250, 200, 150, 100, 50, 21]]\n",
    "nrEpochs = 5\n",
    "nrsEpochs = range(1, nrEpochs + 1)\n",
    "#nrsEpochs = [nrEpochs]\n",
    "bSize = 128"
   ]
  },
  {
   "cell_type": "raw",
   "metadata": {},
   "source": [
    "for layers in layersList:\n",
    "    LOG_HEADER(logPrefix + ', lagen: {}'.format(str(layers)), True)\n",
    "    train_and_evaluate_per_epoch(X_train, Y_train, realTrainClasses, \n",
    "                                 layers, nrEpochs, modelFilePath, baseModelFilename, NFFT,\n",
    "                                batch_size=bSize)"
   ]
  },
  {
   "cell_type": "raw",
   "metadata": {},
   "source": [
    "# Test alle modellen\n",
    "fileName='plots/20190103_NFFT{}.txt'.format(NFFT)\n",
    "with open(fileName, 'w') as f:\n",
    "    with redirect_stdout(f):       \n",
    "        testModellen(modelFilePath=storageFolder, \n",
    "                     layerss=layersList, \n",
    "                     NFFT=NFFT,\n",
    "                     micNr=4, \n",
    "                     testFileNames=['testData_G428', 'testData_G527', 'testData_Studio'], \n",
    "                     showOverall=True)                "
   ]
  },
  {
   "cell_type": "raw",
   "metadata": {},
   "source": [
    "from parseExperimentResults import parseRedoExperiment"
   ]
  },
  {
   "cell_type": "raw",
   "metadata": {},
   "source": [
    "experimentId='20190103_NFFT{}'.format(NFFT)\n",
    "filePattern='20190103_NFFT{}'.format(NFFT)\n",
    "parseRedoExperiment(experimentId, filePattern)"
   ]
  },
  {
   "cell_type": "code",
   "execution_count": null,
   "metadata": {},
   "outputs": [],
   "source": []
  }
 ],
 "metadata": {
  "kernelspec": {
   "display_name": "Python 3",
   "language": "python",
   "name": "python3"
  },
  "language_info": {
   "codemirror_mode": {
    "name": "ipython",
    "version": 3
   },
   "file_extension": ".py",
   "mimetype": "text/x-python",
   "name": "python",
   "nbconvert_exporter": "python",
   "pygments_lexer": "ipython3",
   "version": "3.6.5"
  },
  "varInspector": {
   "cols": {
    "lenName": 16,
    "lenType": 16,
    "lenVar": 40
   },
   "kernels_config": {
    "python": {
     "delete_cmd_postfix": "",
     "delete_cmd_prefix": "del ",
     "library": "var_list.py",
     "varRefreshCmd": "print(var_dic_list())"
    },
    "r": {
     "delete_cmd_postfix": ") ",
     "delete_cmd_prefix": "rm(",
     "library": "var_list.r",
     "varRefreshCmd": "cat(var_dic_list()) "
    }
   },
   "position": {
    "height": "251px",
    "left": "448.415px",
    "right": "20px",
    "top": "98.9773px",
    "width": "579px"
   },
   "types_to_exclude": [
    "module",
    "function",
    "builtin_function_or_method",
    "instance",
    "_Feature"
   ],
   "window_display": false
  }
 },
 "nbformat": 4,
 "nbformat_minor": 2
}

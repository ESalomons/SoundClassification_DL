{
 "cells": [
  {
   "cell_type": "code",
   "execution_count": 45,
   "metadata": {},
   "outputs": [],
   "source": [
    "%reload_ext autoreload\n",
    "%autoreload 2\n",
    "import os\n",
    "import glob\n",
    "import scipy.io.wavfile as wv\n",
    "import matplotlib.pyplot as plt\n",
    "import numpy as np\n",
    "from util import util\n",
    "import scipy.signal as sig\n",
    "from keras.models import Sequential\n",
    "from keras.layers import Dense\n",
    "from util.confusionMatrix import ConfusionMatrix"
   ]
  },
  {
   "cell_type": "code",
   "execution_count": 2,
   "metadata": {},
   "outputs": [],
   "source": [
    "classes = ['music', 'voice', 'environment']\n",
    "\n",
    "macDir = '/Volumes/SAA_DATA/datasets/'\n",
    "winDir = 'E:/SAA_DATA/'\n",
    "osDir = winDir\n",
    "\n",
    "baseTargetDir = '/Users/etto/Desktop/pData'\n",
    "baseTargetDir = 'E:/SAA_DATA/targetDir'\n",
    "\n",
    "baseSrcDir = osDir + 'localizationFiles/20171025AllExtractionsMic4'\n",
    "orgWavDirs1 = ['G428_0.0_1.4',\n",
    "              'G527_0.5_1.4',\n",
    "              'Studio_2.0_4.2'\n",
    "              ]\n",
    "\n",
    "orgWavDirs2 = ['G428_2.1_2.4',\n",
    "              'G527_1.2_5.8',\n",
    "              'Studio_3.0_2.0'\n",
    "              ]\n",
    "\n",
    "NFFT = 1024\n",
    "\n",
    "storageFolder = '../storedData/'"
   ]
  },
  {
   "cell_type": "code",
   "execution_count": 3,
   "metadata": {},
   "outputs": [],
   "source": [
    "# Train alleen op 1 van de org dirs\n",
    "srcDir = baseSrcDir + '/' + orgWavDirs1[0]\n",
    "filesPerCategory = {}\n",
    "for catDirLong in glob.glob(srcDir + '/*'):\n",
    "    catDir = catDirLong.replace('\\\\', '/')\n",
    "    catDir = catDir.replace(srcDir + '/', '')\n",
    "    \n",
    "    filesPerCategory[catDir] = []\n",
    "    for filename in glob.glob(catDirLong + '/*'):\n",
    "        filename = filename.replace('\\\\','/')\n",
    "        filesPerCategory[catDir].append(filename)\n"
   ]
  },
  {
   "cell_type": "code",
   "execution_count": 4,
   "metadata": {},
   "outputs": [],
   "source": [
    "# maak spectros van elke file\n",
    "spectros = {}\n",
    "for clz in classes:\n",
    "    spectros[clz] = []\n",
    "    for filename in filesPerCategory[clz]:\n",
    "        fs, signal = wv.read(filename)\n",
    "        freq_array, segment_times, spectrogram = sig.spectrogram(x=signal, fs=fs, nfft=NFFT, noverlap=0)\n",
    "        spectros[clz].append(spectrogram.T)\n",
    "        "
   ]
  },
  {
   "cell_type": "code",
   "execution_count": 5,
   "metadata": {},
   "outputs": [
    {
     "data": {
      "text/plain": [
       "(187316, 513)"
      ]
     },
     "execution_count": 5,
     "metadata": {},
     "output_type": "execute_result"
    }
   ],
   "source": [
    "#alle X achter elkaar in goede volgorde\n",
    "\n",
    "X_train = np.concatenate(spectros[classes[0]], axis=0)\n",
    "for i in range(1, len(classes)):\n",
    "    nwSpectros = np.concatenate(spectros[classes[i]], axis=0)\n",
    "    X_train = np.concatenate((X_train,nwSpectros), axis=0) \n",
    "\n",
    "np.shape(X_train)"
   ]
  },
  {
   "cell_type": "code",
   "execution_count": 6,
   "metadata": {},
   "outputs": [
    {
     "name": "stdout",
     "output_type": "stream",
     "text": [
      "{'music': 60205, 'voice': 60859, 'environment': 66252}\n"
     ]
    }
   ],
   "source": [
    "clzLengths = {}\n",
    "for clz in classes:\n",
    "    clzLengths[clz] = sum([np.shape(lst)[0] for lst in spectros[clz]])\n",
    "print(clzLengths)"
   ]
  },
  {
   "cell_type": "code",
   "execution_count": 7,
   "metadata": {},
   "outputs": [
    {
     "name": "stdout",
     "output_type": "stream",
     "text": [
      "(187316, 3)\n"
     ]
    }
   ],
   "source": [
    "# one-hot encoding\n",
    "clsNr = 0\n",
    "nrFiles = clzLengths[classes[0]]\n",
    "Y_train = np.array((np.ones(nrFiles),np.zeros(nrFiles), np.zeros(nrFiles))).T\n",
    "\n",
    "nrFiles = clzLengths[classes[1]]\n",
    "Y_train_nw = np.array((np.zeros(nrFiles),np.ones(nrFiles), np.zeros(nrFiles))).T\n",
    "Y_train = np.concatenate((Y_train, Y_train_nw),axis=0)\n",
    "\n",
    "nrFiles = clzLengths[classes[2]]\n",
    "Y_train_nw = np.array((np.zeros(nrFiles),np.zeros(nrFiles), np.ones(nrFiles))).T\n",
    "Y_train = np.concatenate((Y_train, Y_train_nw),axis=0)\n",
    "print(np.shape(Y_train))"
   ]
  },
  {
   "cell_type": "markdown",
   "metadata": {},
   "source": [
    "zie https://machinelearningmastery.com/multi-class-classification-tutorial-keras-deep-learning-library/"
   ]
  },
  {
   "cell_type": "code",
   "execution_count": 8,
   "metadata": {},
   "outputs": [],
   "source": [
    "# define baseline model\n",
    "def create_model():\n",
    "    # create model\n",
    "    model = Sequential()\n",
    "    model.add(Dense(100, input_dim=513, activation='relu'))\n",
    "    model.add(Dense(20, activation='relu'))\n",
    "    model.add(Dense(3, activation='softmax'))\n",
    "    # Compile model\n",
    "    model.compile(loss='categorical_crossentropy', optimizer='adam', metrics=['accuracy'])\n",
    "    return model\n"
   ]
  },
  {
   "cell_type": "code",
   "execution_count": 9,
   "metadata": {},
   "outputs": [
    {
     "name": "stdout",
     "output_type": "stream",
     "text": [
      "Epoch 1/5\n",
      "187316/187316 [==============================] - 31s 166us/step - loss: 0.2111 - acc: 0.9225\n",
      "Epoch 2/5\n",
      "187316/187316 [==============================] - 27s 144us/step - loss: 0.1248 - acc: 0.9540\n",
      "Epoch 3/5\n",
      "187316/187316 [==============================] - 27s 143us/step - loss: 0.1041 - acc: 0.96121s - loss: \n",
      "Epoch 4/5\n",
      "187316/187316 [==============================] - 26s 138us/step - loss: 0.0912 - acc: 0.96571\n",
      "Epoch 5/5\n",
      "187316/187316 [==============================] - 26s 137us/step - loss: 0.0831 - acc: 0.9684\n"
     ]
    }
   ],
   "source": [
    "soundModel = create_model()\n",
    "history = soundModel.fit(X_train, Y_train, epochs=5, shuffle=True, verbose=1)"
   ]
  },
  {
   "cell_type": "code",
   "execution_count": 10,
   "metadata": {},
   "outputs": [
    {
     "data": {
      "image/png": "[encoded data removed]",
      "text/plain": [
       "<Figure size 432x288 with 1 Axes>"
      ]
     },
     "metadata": {},
     "output_type": "display_data"
    }
   ],
   "source": [
    "plt.plot(history.history['loss'])\n",
    "plt.show()"
   ]
  },
  {
   "cell_type": "code",
   "execution_count": 11,
   "metadata": {},
   "outputs": [],
   "source": [
    "soundModel.save(storageFolder + 'prf20180714.hd5')"
   ]
  },
  {
   "cell_type": "markdown",
   "metadata": {},
   "source": [
    "## evalueer op traindata"
   ]
  },
  {
   "cell_type": "code",
   "execution_count": 72,
   "metadata": {},
   "outputs": [
    {
     "name": "stdout",
     "output_type": "stream",
     "text": [
      "                   m       v       e |  sens   acc\n",
      "music          57105    3004      96 |  0.95  0.98\n",
      "voice            544   59228    1087 |  0.97  0.97\n",
      "environment       36     958   65258 |  0.98  0.99\n",
      "--------------------------------------\n",
      "prec            0.99    0.94    0.98\n",
      "\n",
      "F1 overall: 0.97\n",
      "F1 music: 0.97\n",
      "F1 voice: 0.95\n",
      "F1 environment: 0.98\n",
      "\n"
     ]
    }
   ],
   "source": [
    "# predicted classes\n",
    "predictions = soundModel.predict(X_train)\n",
    "predClasses = predictions.argmax(axis=1)\n",
    "\n",
    "# real classes\n",
    "realClasses = np.concatenate((np.zeros(clzLengths[classes[0]]), \n",
    "                              np.ones(clzLengths[classes[1]]), \n",
    "                              2*np.ones(clzLengths[classes[2]])))\n",
    "\n",
    "matrix = ConfusionMatrix(classes)\n",
    "for vals in zip(realClasses, predClasses):\n",
    "    matrix.add(int(vals[0]), int(vals[1]), 1)\n",
    "print(matrix.toString())\n",
    "print()\n",
    "print(matrix.toF1String())"
   ]
  },
  {
   "cell_type": "markdown",
   "metadata": {},
   "source": [
    "## Testen op soundchunks"
   ]
  },
  {
   "cell_type": "code",
   "execution_count": 99,
   "metadata": {},
   "outputs": [],
   "source": [
    "import importlib\n",
    "from util import WavFileParts\n",
    "import wave\n",
    "\n",
    "def readSoundChunksDynamic(moduleString):\n",
    "    chunks = importlib.import_module(moduleString).soundChunks\n",
    "    wfPts = []\n",
    "    for jsonString in chunks:\n",
    "        wfPts.append(WavFileParts.WavFilePartFromJson(jsonString))\n",
    "    return wfPts"
   ]
  },
  {
   "cell_type": "code",
   "execution_count": 82,
   "metadata": {},
   "outputs": [],
   "source": [
    "chunksBaseDir = 'chunks'\n",
    "rooms = ['Studio', 'G428', 'G527']"
   ]
  },
  {
   "cell_type": "code",
   "execution_count": 84,
   "metadata": {},
   "outputs": [],
   "source": [
    "wfPts = readSoundChunksDynamic(chunksBaseDir + '.' + 'Studio' + '.soundChunks')"
   ]
  },
  {
   "cell_type": "raw",
   "metadata": {},
   "source": [
    "for wf in wfPts: #type: WavFileParts\n",
    "    print(wf.getSoundChunks(1))"
   ]
  },
  {
   "cell_type": "code",
   "execution_count": 89,
   "metadata": {},
   "outputs": [],
   "source": [
    "wf = wfPts[0]"
   ]
  },
  {
   "cell_type": "code",
   "execution_count": 90,
   "metadata": {},
   "outputs": [
    {
     "data": {
      "text/plain": [
       "740"
      ]
     },
     "execution_count": 90,
     "metadata": {},
     "output_type": "execute_result"
    }
   ],
   "source": [
    "wf.fileNr"
   ]
  },
  {
   "cell_type": "code",
   "execution_count": 92,
   "metadata": {},
   "outputs": [
    {
     "data": {
      "text/plain": [
       "'Gunshot'"
      ]
     },
     "execution_count": 92,
     "metadata": {},
     "output_type": "execute_result"
    }
   ],
   "source": [
    "wf.getSoundType()"
   ]
  },
  {
   "cell_type": "code",
   "execution_count": 101,
   "metadata": {},
   "outputs": [
    {
     "data": {
      "text/plain": [
       "'E:/SAA_DATA/localizationRecordings/20171011/170816_740_mono4.wav'"
      ]
     },
     "execution_count": 101,
     "metadata": {},
     "output_type": "execute_result"
    }
   ],
   "source": [
    "datasetDir = osDir + 'localizationRecordings/20171011'\n",
    "fileDate = 170816\n",
    "micNr = 4\n",
    "filename = datasetDir + '/{:d}_{:d}_mono{:d}.wav'.format(fileDate, wf.fileNr, micNr)\n",
    "filename"
   ]
  },
  {
   "cell_type": "code",
   "execution_count": 102,
   "metadata": {},
   "outputs": [],
   "source": [
    "sc = wf.getSoundChunks(micNr)[0]"
   ]
  },
  {
   "cell_type": "code",
   "execution_count": 103,
   "metadata": {},
   "outputs": [
    {
     "data": {
      "text/plain": [
       "[8.030385487528346, 8.29453514739229]"
      ]
     },
     "execution_count": 103,
     "metadata": {},
     "output_type": "execute_result"
    }
   ],
   "source": [
    "sc"
   ]
  },
  {
   "cell_type": "code",
   "execution_count": 116,
   "metadata": {},
   "outputs": [
    {
     "data": {
      "text/plain": [
       "'Gunshot'"
      ]
     },
     "execution_count": 116,
     "metadata": {},
     "output_type": "execute_result"
    }
   ],
   "source": [
    "wf.getSoundType()"
   ]
  },
  {
   "cell_type": "code",
   "execution_count": 133,
   "metadata": {},
   "outputs": [],
   "source": [
    "sourceFile = wave.open(filename, 'rb')\n",
    "frameRate = sourceFile.getframerate()\n",
    "nChannels = sourceFile.getnchannels()\n",
    "sampWidth = sourceFile.getsampwidth()\n",
    "\n",
    "targetName = '../storedData/dumpFolder/extracted.wav'\n",
    "\n",
    "for soundChunk in [sc]: #fpt.getSoundChunks(micNr):\n",
    "    # extract file part\n",
    "    targetFile = wave.open(targetName, 'wb')\n",
    "    targetFile.setnchannels(nChannels)\n",
    "    targetFile.setsampwidth(sampWidth)\n",
    "    targetFile.setframerate(frameRate)\n",
    "\n",
    "    startFrame = int(soundChunk[0] * frameRate)\n",
    "    endFrame = int(soundChunk[1] * frameRate)\n",
    "\n",
    "    sourceFile.setpos(startFrame)\n",
    "    wavBytes = sourceFile.readframes((endFrame - startFrame))\n",
    "\n",
    "    targetFile.writeframes(wavBytes)\n",
    "    targetFile.close()"
   ]
  },
  {
   "cell_type": "code",
   "execution_count": 134,
   "metadata": {},
   "outputs": [],
   "source": [
    "# create spectros\n",
    "fs, signal = wv.read(targetName)\n",
    "freq_array, segment_times, spectrogram = sig.spectrogram(x=signal, fs=fs, nfft=NFFT, noverlap=0)"
   ]
  },
  {
   "cell_type": "code",
   "execution_count": 135,
   "metadata": {},
   "outputs": [
    {
     "data": {
      "text/plain": [
       "<matplotlib.colorbar.Colorbar at 0x1b468c430f0>"
      ]
     },
     "execution_count": 135,
     "metadata": {},
     "output_type": "execute_result"
    },
    {
     "data": {
      "image/png": "[encoded data removed]",
      "text/plain": [
       "<Figure size 432x288 with 2 Axes>"
      ]
     },
     "metadata": {},
     "output_type": "display_data"
    }
   ],
   "source": [
    "plt.pcolormesh(segment_times,freq_array,10 * np.log10(spectrogram))\n",
    "plt.colorbar()"
   ]
  },
  {
   "cell_type": "code",
   "execution_count": 136,
   "metadata": {},
   "outputs": [],
   "source": [
    "# nu zonder eerst naar file te schrijven"
   ]
  },
  {
   "cell_type": "code",
   "execution_count": 138,
   "metadata": {},
   "outputs": [
    {
     "name": "stderr",
     "output_type": "stream",
     "text": [
      "C:\\Users\\Etto\\Anaconda2\\envs\\py36DL\\lib\\site-packages\\scipy\\io\\wavfile.py:273: WavFileWarning: Chunk (non-data) not understood, skipping it.\n",
      "  WavFileWarning)\n"
     ]
    }
   ],
   "source": [
    "soundChunk = sc\n",
    "fs, signal = wv.read(filename)\n",
    "startFrame = int(soundChunk[0] * frameRate)\n",
    "endFrame = int(soundChunk[1] * frameRate)\n",
    "\n",
    "sigChunk = signal[startFrame: endFrame]\n",
    "freq_array, segment_times, spectrogram2 = sig.spectrogram(x=sigChunk, fs=fs, nfft=NFFT, noverlap=0)"
   ]
  },
  {
   "cell_type": "markdown",
   "metadata": {},
   "source": [
    "## en dan nu:\n",
    "    bovenstaand fragment gebruiken:\n",
    "        loop door wavfileparts\n",
    "            als type != Gunshot\n",
    "                bepaal classnr\n",
    "                loop door soundchunks\n",
    "                    bepaal spectrogram per soundchunk\n",
    "                    plak spectrogram aan totale spectrogram\n",
    "                    plak een stuk met lengte spectrogram aan Y waarden (true values)"
   ]
  },
  {
   "cell_type": "code",
   "execution_count": null,
   "metadata": {},
   "outputs": [],
   "source": []
  }
 ],
 "metadata": {
  "kernelspec": {
   "display_name": "Python 3",
   "language": "python",
   "name": "python3"
  },
  "language_info": {
   "codemirror_mode": {
    "name": "ipython",
    "version": 3
   },
   "file_extension": ".py",
   "mimetype": "text/x-python",
   "name": "python",
   "nbconvert_exporter": "python",
   "pygments_lexer": "ipython3",
   "version": "3.6.5"
  },
  "varInspector": {
   "cols": {
    "lenName": 16,
    "lenType": 16,
    "lenVar": 40
   },
   "kernels_config": {
    "python": {
     "delete_cmd_postfix": "",
     "delete_cmd_prefix": "del ",
     "library": "var_list.py",
     "varRefreshCmd": "print(var_dic_list())"
    },
    "r": {
     "delete_cmd_postfix": ") ",
     "delete_cmd_prefix": "rm(",
     "library": "var_list.r",
     "varRefreshCmd": "cat(var_dic_list()) "
    }
   },
   "types_to_exclude": [
    "module",
    "function",
    "builtin_function_or_method",
    "instance",
    "_Feature"
   ],
   "window_display": false
  }
 },
 "nbformat": 4,
 "nbformat_minor": 2
}

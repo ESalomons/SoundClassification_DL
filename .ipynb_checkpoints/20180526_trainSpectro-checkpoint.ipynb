{
 "cells": [
  {
   "cell_type": "code",
   "execution_count": 1,
   "metadata": {},
   "outputs": [
    {
     "name": "stderr",
     "output_type": "stream",
     "text": [
      "Using TensorFlow backend.\n"
     ]
    }
   ],
   "source": [
    "%reload_ext autoreload\n",
    "%autoreload 2\n",
    "import os\n",
    "import glob\n",
    "import scipy.io.wavfile as wv\n",
    "import matplotlib.pyplot as plt\n",
    "import numpy as np\n",
    "from util import util\n",
    "import scipy.signal as sig"
   ]
  },
  {
   "cell_type": "code",
   "execution_count": 24,
   "metadata": {},
   "outputs": [],
   "source": [
    "classes = ['music', 'voice', 'environment']\n",
    "\n",
    "macDir = '/Volumes/SAA_DATA/datasets/'\n",
    "winDir = 'E:/SAA_DATA/'\n",
    "osDir = winDir\n",
    "\n",
    "baseTargetDir = '/Users/etto/Desktop/pData'\n",
    "baseTargetDir = 'E:/SAA_DATA/targetDir'\n",
    "\n",
    "baseSrcDir = osDir + 'localizationFiles/20171025AllExtractionsMic4'\n",
    "orgWavDirs1 = ['G428_0.0_1.4',\n",
    "              'G527_0.5_1.4',\n",
    "              'Studio_2.0_4.2'\n",
    "              ]\n",
    "\n",
    "orgWavDirs2 = ['G428_2.1_2.4',\n",
    "              'G527_1.2_5.8',\n",
    "              'Studio_3.0_2.0'\n",
    "              ]\n",
    "\n",
    "NFFT = 1024"
   ]
  },
  {
   "cell_type": "code",
   "execution_count": 22,
   "metadata": {},
   "outputs": [],
   "source": [
    "# Train alleen op 1 van de org dirs\n",
    "srcDir = baseSrcDir + '/' + orgWavDirs1[0]\n",
    "filesPerCategory = {}\n",
    "for catDirLong in glob.glob(srcDir + '/*'):\n",
    "    catDir = catDirLong.replace('\\\\', '/')\n",
    "    catDir = catDir.replace(srcDir + '/', '')\n",
    "    \n",
    "    filesPerCategory[catDir] = []\n",
    "    for filename in glob.glob(catDirLong + '/*'):\n",
    "        filename = filename.replace('\\\\','/')\n",
    "        filesPerCategory[catDir].append(filename)\n"
   ]
  },
  {
   "cell_type": "code",
   "execution_count": 25,
   "metadata": {},
   "outputs": [],
   "source": [
    "# maak spectros van elke file\n",
    "spectros = {}\n",
    "for clz in classes:\n",
    "    spectros[clz] = []\n",
    "    for filename in filesPerCategory[clz]:\n",
    "        fs, signal = wv.read(filename)\n",
    "        freq_array, segment_times, spectrogram = sig.spectrogram(x=signal, fs=fs, nfft=NFFT, noverlap=0)\n",
    "        spectros[clz].append(spectrogram.T)\n",
    "        "
   ]
  },
  {
   "cell_type": "code",
   "execution_count": 42,
   "metadata": {},
   "outputs": [
    {
     "data": {
      "text/plain": [
       "(187316, 513)"
      ]
     },
     "execution_count": 42,
     "metadata": {},
     "output_type": "execute_result"
    }
   ],
   "source": [
    "#alle X achter elkaar in goede volgorde\n",
    "\n",
    "X_train = np.concatenate(spectros[classes[0]], axis=0)\n",
    "for i in range(1, len(classes)):\n",
    "    nwSpectros = np.concatenate(spectros[classes[i]], axis=0)\n",
    "    X_train = np.concatenate((X_train,nwSpectros), axis=0) \n",
    "\n",
    "np.shape(X_train)"
   ]
  },
  {
   "cell_type": "code",
   "execution_count": 36,
   "metadata": {},
   "outputs": [
    {
     "name": "stdout",
     "output_type": "stream",
     "text": [
      "{'music': 60205, 'voice': 60859, 'environment': 66252}\n"
     ]
    }
   ],
   "source": [
    "clzLengths = {}\n",
    "for clz in classes:\n",
    "    clzLengths[clz] = sum([np.shape(lst)[0] for lst in spectros[clz]])\n",
    "print(clzLengths)"
   ]
  },
  {
   "cell_type": "code",
   "execution_count": 82,
   "metadata": {},
   "outputs": [
    {
     "name": "stdout",
     "output_type": "stream",
     "text": [
      "(187316, 3)\n"
     ]
    }
   ],
   "source": [
    "# one-hot encoding\n",
    "clsNr = 0\n",
    "nrFiles = clzLengths[classes[0]]\n",
    "Y_train = np.array((np.ones(nrFiles),np.zeros(nrFiles), np.zeros(nrFiles))).T\n",
    "\n",
    "nrFiles = clzLengths[classes[1]]\n",
    "Y_train_nw = np.array((np.zeros(nrFiles),np.ones(nrFiles), np.zeros(nrFiles))).T\n",
    "Y_train = np.concatenate((Y_train, Y_train_nw),axis=0)\n",
    "\n",
    "nrFiles = clzLengths[classes[2]]\n",
    "Y_train_nw = np.array((np.zeros(nrFiles),np.zeros(nrFiles), np.ones(nrFiles))).T\n",
    "Y_train = np.concatenate((Y_train, Y_train_nw),axis=0)\n",
    "print(np.shape(Y_train))"
   ]
  },
  {
   "cell_type": "markdown",
   "metadata": {},
   "source": [
    "zie https://machinelearningmastery.com/multi-class-classification-tutorial-keras-deep-learning-library/"
   ]
  },
  {
   "cell_type": "code",
   "execution_count": null,
   "metadata": {},
   "outputs": [],
   "source": []
  }
 ],
 "metadata": {
  "kernelspec": {
   "display_name": "Python 3",
   "language": "python",
   "name": "python3"
  },
  "language_info": {
   "codemirror_mode": {
    "name": "ipython",
    "version": 3
   },
   "file_extension": ".py",
   "mimetype": "text/x-python",
   "name": "python",
   "nbconvert_exporter": "python",
   "pygments_lexer": "ipython3",
   "version": "3.6.5"
  }
 },
 "nbformat": 4,
 "nbformat_minor": 2
}

{
 "cells": [
  {
   "cell_type": "code",
   "execution_count": 1,
   "metadata": {},
   "outputs": [
    {
     "name": "stderr",
     "output_type": "stream",
     "text": [
      "Using TensorFlow backend.\n"
     ]
    }
   ],
   "source": [
    "%reload_ext autoreload\n",
    "%autoreload 2\n",
    "import glob\n",
    "import importlib\n",
    "import matplotlib.pyplot as plt\n",
    "import numpy as np\n",
    "import os\n",
    "import pandas as pd\n",
    "import scipy.io.wavfile as wv\n",
    "import scipy.signal as sig\n",
    "import wave\n",
    "\n",
    "from datetime import datetime\n",
    "from keras.models import Sequential, load_model\n",
    "from keras.layers import Dense\n",
    "\n",
    "from util import util\n",
    "from util import WavFileParts\n",
    "from util.logUtil import LOG, LOG_HEADER\n",
    "from util.confusionMatrix import ConfusionMatrix\n"
   ]
  },
  {
   "cell_type": "markdown",
   "metadata": {},
   "source": [
    "### globale settings"
   ]
  },
  {
   "cell_type": "code",
   "execution_count": 2,
   "metadata": {},
   "outputs": [],
   "source": [
    "classes = ['music', 'voice', 'environment']\n",
    "\n",
    "macDir = '/Volumes/SAA_DATA/datasets/'\n",
    "winDir = 'E:/SAA_DATA/'\n",
    "osDir = winDir\n",
    "recordingDir = osDir + '/localizationRecordings'\n",
    "\n",
    "if osDir == winDir:\n",
    "    storageFolder = 'E:/SAA_DATA/storedData/'\n",
    "else:\n",
    "    storageFolder = '/Users/etto/Desktop/storedData/'\n",
    "\n",
    "baseSrcDir = osDir + 'localizationFiles/20171025AllExtractionsMic4'\n",
    "orgWavDirs1 = ['G428_0.0_1.4',\n",
    "              'G527_0.5_1.4',\n",
    "              'Studio_2.0_4.2'\n",
    "              ]\n",
    "\n",
    "orgWavDirs2 = ['G428_2.1_2.4',\n",
    "              'G527_1.2_5.8',\n",
    "              'Studio_3.0_2.0'\n",
    "              ]\n",
    "\n",
    "orgsG428 = ['G428_0.0_1.4','G428_2.1_2.4']\n",
    "orgsG527 = ['G527_0.5_1.4','G527_1.2_5.8']\n",
    "orgsStudio = ['Studio_2.0_4.2','Studio_3.0_2.0']\n",
    "\n",
    "NFFT = 1024\n",
    "\n",
    "chunksBaseDir = 'chunks'\n",
    "rooms = ['Studio', 'G428', 'G527']"
   ]
  },
  {
   "cell_type": "markdown",
   "metadata": {},
   "source": [
    "### utility functies"
   ]
  },
  {
   "cell_type": "code",
   "execution_count": 3,
   "metadata": {},
   "outputs": [],
   "source": [
    "def readSoundChunksDynamic(moduleString):\n",
    "    chunks = importlib.import_module(moduleString).soundChunks\n",
    "    wfPts = []\n",
    "    for jsonString in chunks:\n",
    "        wfPts.append(WavFileParts.WavFilePartFromJson(jsonString))\n",
    "    return wfPts\n",
    "\n",
    "def timeFunction(func):\n",
    "    \"\"\"\n",
    "    Aanroep: bijv. fpc = timeFunction(lambda: getFilesPerCategory(srcDir))\n",
    "    \"\"\"\n",
    "    startTime = datetime.now()\n",
    "    print('Start: ' + startTime.strftime('%H:%M:%S') + '\\n=================')\n",
    "\n",
    "    res = func()\n",
    "    \n",
    "    endTime = datetime.now()\n",
    "    print('\\n=================\\nEnd: ' + endTime.strftime('%H:%M:%S'))\n",
    "    print('Time taken: '),\n",
    "    print(endTime - startTime)\n",
    "    print()\n",
    "    \n",
    "    return res\n",
    "    \n",
    "def storeTestData(allSpectros, allClasses, storageName, keyName):\n",
    "    filename = storageFolder + storageName + '.hd5'\n",
    "    df = pd.DataFrame(allSpectros)\n",
    "    df.to_hdf(path_or_buf=filename, key='spectros_' + keyName)\n",
    "\n",
    "    df = pd.DataFrame(allClasses)\n",
    "    df.to_hdf(path_or_buf=filename, key='classes_' + keyName)\n",
    "\n",
    "def retrieveTestData(storageName, keyName):\n",
    "    filename = storageFolder + storageName + '.hd5'\n",
    "    specDf = pd.read_hdf(path_or_buf=filename, key='spectros_' + keyName)\n",
    "    classesDf = pd.read_hdf(path_or_buf=filename, key='classes_' + keyName)\n",
    "    return specDf.values, classesDf.values\n",
    "    "
   ]
  },
  {
   "cell_type": "markdown",
   "metadata": {},
   "source": [
    "### functies tbv trainen"
   ]
  },
  {
   "cell_type": "code",
   "execution_count": 4,
   "metadata": {},
   "outputs": [],
   "source": [
    "# Maakt een dictionary aan; per categorie alle files (volledig pad) uit de srcDir\n",
    "# srcDir is een van de orgWavDirs, bijvoorbeeld\n",
    "#    localizationFiles/20171025AllExtractionsMic4/G428_0.0_1.4\n",
    "def getFilesPerCategory(srcDir):\n",
    "    filesPerCategory = {}\n",
    "    for catDirLong in glob.glob(srcDir + '/*'):\n",
    "        catDir = catDirLong.replace('\\\\', '/')\n",
    "        catDir = catDir.replace(srcDir + '/', '')\n",
    "\n",
    "        filesPerCategory[catDir] = []\n",
    "        for filename in glob.glob(catDirLong + '/*'):\n",
    "            filename = filename.replace('\\\\','/')\n",
    "            filesPerCategory[catDir].append(filename)\n",
    "    return filesPerCategory\n",
    "\n",
    "def getFilesPerCatFromMultipleDirs(srcDirs, srcDirsBase=''):\n",
    "    filesPerCat = {}\n",
    "    for dirName in srcDirs:\n",
    "        srcDir = srcDirsBase + '/' + dirName\n",
    "        fpcNw = getFilesPerCategory(srcDir)\n",
    "        if not filesPerCat:\n",
    "            filesPerCat = fpcNw\n",
    "        else:\n",
    "            for key in filesPerCat:\n",
    "                filesPerCat[key] += fpcNw[key]\n",
    "    return filesPerCat\n",
    "        "
   ]
  },
  {
   "cell_type": "code",
   "execution_count": 5,
   "metadata": {},
   "outputs": [],
   "source": [
    "# Maakt een dictionary aan; per categorie de spectrogrammen\n",
    "def getSpectrosFromFilesPerCategory(filesPerCategory):\n",
    "    spectros = {}\n",
    "    for clz in classes:\n",
    "        spectros[clz] = []\n",
    "        for filename in filesPerCategory[clz]:\n",
    "            fs, signal = wv.read(filename)\n",
    "            freq_array, segment_times, spectrogram = sig.spectrogram(x=signal, fs=fs, nfft=NFFT, noverlap=0)\n",
    "            spectros[clz].append(spectrogram.T)\n",
    "    return spectros"
   ]
  },
  {
   "cell_type": "code",
   "execution_count": 6,
   "metadata": {},
   "outputs": [],
   "source": [
    "def getClassLengths(spectrosPerCat):\n",
    "    clzLengths = {}\n",
    "    for clz in classes:\n",
    "        clzLengths[clz] = sum([np.shape(lst)[0] for lst in spectrosPerCat[clz]])\n",
    "    return clzLengths"
   ]
  },
  {
   "cell_type": "code",
   "execution_count": 7,
   "metadata": {},
   "outputs": [],
   "source": [
    "# verwacht invoer van getSpectrosFromFilesPerCategory\n",
    "# levert traindata op (X_train en Y_train)\n",
    "def createTrainDataFromSpectros(spectrosPerCat, clzLengths):\n",
    "    X_train = np.concatenate(spectrosPerCat[classes[0]], axis=0)\n",
    "    for i in range(1, len(classes)):\n",
    "        nwSpectros = np.concatenate(spectrosPerCat[classes[i]], axis=0)\n",
    "        X_train = np.concatenate((X_train,nwSpectros), axis=0)\n",
    "    \n",
    "    # one-hot encoding voor Y_train\n",
    "    nrFiles = clzLengths[classes[0]]\n",
    "    Y_train = np.array((np.ones(nrFiles),np.zeros(nrFiles), np.zeros(nrFiles))).T\n",
    "\n",
    "    nrFiles = clzLengths[classes[1]]\n",
    "    Y_train_nw = np.array((np.zeros(nrFiles), np.ones(nrFiles), np.zeros(nrFiles))).T\n",
    "    Y_train = np.concatenate((Y_train, Y_train_nw),axis=0)\n",
    "\n",
    "    nrFiles = clzLengths[classes[2]]\n",
    "    Y_train_nw = np.array((np.zeros(nrFiles), np.zeros(nrFiles), np.ones(nrFiles))).T\n",
    "    Y_train = np.concatenate((Y_train, Y_train_nw),axis=0)\n",
    "    \n",
    "    return X_train, Y_train"
   ]
  },
  {
   "cell_type": "markdown",
   "metadata": {},
   "source": [
    "### deep learning model"
   ]
  },
  {
   "cell_type": "code",
   "execution_count": 8,
   "metadata": {},
   "outputs": [],
   "source": [
    "def create_model(layersizes):\n",
    "    # create model\n",
    "    model = Sequential()\n",
    "    model.add(Dense(layersizes[0], input_dim=513, activation='relu'))\n",
    "    for lsize in layersizes[1:]:\n",
    "        model.add(Dense(lsize, activation='relu'))\n",
    "    model.add(Dense(3, activation='softmax'))\n",
    "    # Compile model\n",
    "    model.compile(loss='categorical_crossentropy', optimizer='adam', metrics=['accuracy'])\n",
    "    return model"
   ]
  },
  {
   "cell_type": "code",
   "execution_count": 9,
   "metadata": {},
   "outputs": [],
   "source": [
    "def getModelFileName(modelFilePath, baseModelFilename, layers, nrEpochs):\n",
    "    modelFilename = modelFilePath + baseModelFilename\n",
    "    for lsize in layers:\n",
    "        modelFilename = '{}_{}'.format(modelFilename, lsize)\n",
    "    modelFilename += 'ep{}'.format(nrEpochs)\n",
    "    modelFilename += '.hd5'\n",
    "    return modelFilename"
   ]
  },
  {
   "cell_type": "code",
   "execution_count": 10,
   "metadata": {},
   "outputs": [],
   "source": [
    "def getModelName(baseModelFilename, layers, nrEpochs):\n",
    "    modelFilename = baseModelFilename\n",
    "    for lsize in layers:\n",
    "        modelFilename = '{}_{}'.format(modelFilename, lsize)\n",
    "    modelFilename += 'ep{}'.format(nrEpochs)\n",
    "    return modelFilename"
   ]
  },
  {
   "cell_type": "code",
   "execution_count": 11,
   "metadata": {},
   "outputs": [],
   "source": [
    "def train_model(X_train, Y_train, layers, nrEpochs, modelFilePath, baseModelFilename, batch_size=None):\n",
    "    soundModel = create_model(layers)\n",
    "    history = timeFunction(lambda: soundModel.fit(X_train,Y_train, epochs=nrEpochs, shuffle=True, verbose=1, batch_size=batch_size))\n",
    "    soundModel.save(getModelFileName(modelFilePath, baseModelFilename, layers, nrEpochs))\n",
    "    plt.plot(history.history['loss'])\n",
    "    plt.show()"
   ]
  },
  {
   "cell_type": "code",
   "execution_count": 21,
   "metadata": {},
   "outputs": [],
   "source": [
    "def train_and_evaluate_model(X_train, Y_train, realTrainClasses, layers, nrEpochs, modelFilePath, baseModelFilename, batch_size=None):\n",
    "    soundModel = create_model(layers)\n",
    "    history = timeFunction(lambda: soundModel.fit(X_train,Y_train, epochs=nrEpochs, shuffle=True, verbose=1, batch_size=batch_size))\n",
    "    soundModel.save(getModelFileName(modelFilePath, baseModelFilename, layers, nrEpochs))\n",
    "    plt.plot(history.history['loss'])\n",
    "    plt.show()\n",
    "    evaluate_model(X_train, realTrainClasses,layers, nrEpochs, modelFilePath, baseModelFilename)"
   ]
  },
  {
   "cell_type": "code",
   "execution_count": 13,
   "metadata": {},
   "outputs": [],
   "source": [
    "def evaluate_model(X_test, realClasses, layers, nrEpochs, modelFilePath, baseModelFilename):\n",
    "    soundModel = load_model(getModelFileName(modelFilePath, baseModelFilename, layers, nrEpochs))\n",
    "\n",
    "    # predicted classes\n",
    "    predictions = soundModel.predict(X_test)\n",
    "    predClasses = predictions.argmax(axis=1)\n",
    "\n",
    "    matrix = ConfusionMatrix(classes)\n",
    "    for vals in zip(realClasses, predClasses):\n",
    "        matrix.add(int(vals[0]), int(vals[1]), 1)\n",
    "    LOG(matrix.toString(),True)\n",
    "    LOG('', True)\n",
    "    LOG(matrix.toF1String(), True)\n",
    "    return matrix"
   ]
  },
  {
   "cell_type": "code",
   "execution_count": 14,
   "metadata": {},
   "outputs": [],
   "source": [
    "def train_and_evaluate_per_epoch(X_train, Y_train, realClasses, layers, nrEpochs, modelFilePath, baseModelFilename, batch_size=None):\n",
    "    soundModel = create_model(layers)\n",
    "    for epNr in range(1, nrEpochs+1):\n",
    "        LOG('\\n*****************\\n* Epoch nr {}\\n*****************\\n'.format(epNr), True)\n",
    "        soundModel.fit(X_train,Y_train, epochs=1, shuffle=True, verbose=1, batch_size=batch_size)\n",
    "        soundModel.save(getModelFileName(modelFilePath, baseModelFilename, layers, epNr))\n",
    "        evaluate_model(X_train, realClasses, layers, epNr, modelFilePath, baseModelFilename)"
   ]
  },
  {
   "cell_type": "markdown",
   "metadata": {},
   "source": [
    "### functies tbv testen"
   ]
  },
  {
   "cell_type": "code",
   "execution_count": 15,
   "metadata": {},
   "outputs": [],
   "source": [
    "def createAndStoreTestData(wavFileParts, baseDir, fileDate, micNr, storeFilename, keyName):\n",
    "    allSpectros = np.array([])\n",
    "    allClasses = np.array([])\n",
    "\n",
    "    for wfPt in wavFileParts: #type: WavFilePart\n",
    "        if not 'Gunshot' in wfPt.getSoundType():\n",
    "            filename = baseDir + '/{:d}_{:d}_mono{:d}.wav'.format(fileDate, wfPt.fileNr, micNr)\n",
    "            fs, signal = wv.read(filename)\n",
    "\n",
    "            classNr = classes.index(wfPt.getSoundType().lower())\n",
    "            for soundChunk in wfPt.getSoundChunks(micNr):\n",
    "                startFrame = int(soundChunk[0] * fs)\n",
    "                endFrame = int(soundChunk[1] * fs)\n",
    "\n",
    "                sigChunk = signal[startFrame: endFrame]\n",
    "                freq_array, segment_times, spectrogram = sig.spectrogram(x=sigChunk, fs=fs, nfft=NFFT, noverlap=0)\n",
    "                if len(allSpectros) == 0:\n",
    "                    allSpectros = spectrogram.T\n",
    "                else:\n",
    "                    allSpectros = np.append(allSpectros, spectrogram.T, axis=0)\n",
    "                allClasses = np.append(allClasses, classNr * np.ones(len(segment_times)))\n",
    "                \n",
    "    storeTestData(allSpectros, allClasses, storeFilename, keyName)\n"
   ]
  },
  {
   "cell_type": "code",
   "execution_count": 16,
   "metadata": {},
   "outputs": [],
   "source": [
    "def getTrainDataFromFolders(orgWavDirs):\n",
    "    fpc = getFilesPerCatFromMultipleDirs(orgWavDirs, baseSrcDir)\n",
    "    spcs = getSpectrosFromFilesPerCategory(fpc)\n",
    "    clzLengths = getClassLengths(spcs)\n",
    "    X_train, Y_train = createTrainDataFromSpectros(spcs, clzLengths)\n",
    "    # real train classes\n",
    "    realTrainClasses = np.concatenate((np.zeros(clzLengths[classes[0]]), \n",
    "                                  np.ones(clzLengths[classes[1]]), \n",
    "                                  2*np.ones(clzLengths[classes[2]])))\n",
    "    return X_train, Y_train, realTrainClasses\n"
   ]
  },
  {
   "cell_type": "code",
   "execution_count": 17,
   "metadata": {},
   "outputs": [],
   "source": [
    "def testModellen(modelFilePath, layerss, micNr, testFileNames, showOverall=True):\n",
    "\n",
    "    # test data\n",
    "    keyname = 'mic{}'.format(micNr)\n",
    "\n",
    "    for layers in layerss:\n",
    "        for nrEpochs in nrsEpochs:\n",
    "            overallMatrix = ConfusionMatrix(classes)\n",
    "            for testFileName in testFileNames:\n",
    "                testSpecs, testClasses = retrieveTestData(testFileName, keyname)\n",
    "\n",
    "                LOG_HEADER(getModelName(baseModelFilename, layers, nrEpochs) \n",
    "                           + '\\n# ' + keyname\n",
    "                           + '\\n# ' + testFileName,\n",
    "                           True)\n",
    "                matrix = evaluate_model(testSpecs, testClasses, layers, nrEpochs, modelFilePath, baseModelFilename)\n",
    "                overallMatrix.addMatrix(matrix.normalizedCopy())\n",
    "            \n",
    "            if showOverall:\n",
    "                overallMatrix = overallMatrix.normalizedCopy()\n",
    "                LOG_HEADER(getModelName(baseModelFilename, layers, nrEpochs) \n",
    "                           + '\\n# ' + keyname\n",
    "                           + '\\n# ' + 'testData_Overall',\n",
    "                           True)\n",
    "                LOG(overallMatrix.toString(),True)\n",
    "                LOG('', True)\n",
    "                LOG(overallMatrix.toF1String(), True)"
   ]
  },
  {
   "cell_type": "code",
   "execution_count": 28,
   "metadata": {},
   "outputs": [],
   "source": [
    "def testModel(modelFilePath, layers, micNr, testFileNames, nrEpochs, showOverall=True):\n",
    "\n",
    "    # test data\n",
    "    keyname = 'mic{}'.format(micNr)\n",
    "\n",
    "    overallMatrix = ConfusionMatrix(classes)\n",
    "    for testFileName in testFileNames:\n",
    "        testSpecs, testClasses = retrieveTestData(testFileName, keyname)\n",
    "\n",
    "        LOG_HEADER(getModelName(baseModelFilename, layers, nrEpochs) \n",
    "                   + '\\n# ' + keyname\n",
    "                   + '\\n# ' + testFileName,\n",
    "                   True)\n",
    "        matrix = evaluate_model(testSpecs, testClasses, layers, nrEpochs, modelFilePath, baseModelFilename)\n",
    "        overallMatrix.addMatrix(matrix.normalizedCopy())\n",
    "\n",
    "    if showOverall:\n",
    "        overallMatrix = overallMatrix.normalizedCopy()\n",
    "        LOG_HEADER(getModelName(baseModelFilename, layers, nrEpochs) \n",
    "                   + '\\n# ' + keyname\n",
    "                   + '\\n# ' + 'testData_Overall',\n",
    "                   True)\n",
    "        LOG(overallMatrix.toString(),True)\n",
    "        LOG('', True)\n",
    "        LOG(overallMatrix.toF1String(), True)"
   ]
  },
  {
   "cell_type": "markdown",
   "metadata": {},
   "source": [
    "### trainen van model obv: G428 en G527"
   ]
  },
  {
   "cell_type": "code",
   "execution_count": 18,
   "metadata": {
    "scrolled": true
   },
   "outputs": [],
   "source": [
    "# Train voor alle lagen\n",
    "baseModelFilename = '20180829_speedTest'\n",
    "modelFilePath = storageFolder\n",
    "logPrefix = 'Orgs G428 en G527'\n",
    "orgWavDirs = orgsG428 + orgsG527\n",
    "X_train, Y_train, realTrainClasses = getTrainDataFromFolders(orgWavDirs)"
   ]
  },
  {
   "cell_type": "code",
   "execution_count": 19,
   "metadata": {},
   "outputs": [],
   "source": [
    "layersList = [[400, 250, 100, 20]]\n",
    "nrEpochs = 1\n",
    "nrsEpochs = range(1, nrEpochs + 1)\n",
    "bSize = 2048"
   ]
  },
  {
   "cell_type": "code",
   "execution_count": 22,
   "metadata": {},
   "outputs": [
    {
     "name": "stdout",
     "output_type": "stream",
     "text": [
      "####################################\n",
      "#\n",
      "# Orgs G428 en G527, lagen: [400, 250, 100, 20]\n",
      "#\n",
      "####################################\n",
      "\n",
      "Start: 13:10:27\n",
      "=================\n",
      "Epoch 1/1\n",
      "754329/754329 [==============================] - 6s 8us/step - loss: 0.2501 - acc: 0.9039\n",
      "\n",
      "=================\n",
      "End: 13:10:33\n",
      "Time taken: \n",
      "0:00:06.488364\n",
      "\n"
     ]
    },
    {
     "data": {
      "image/png": "[encoded data removed]",
      "text/plain": [
       "<Figure size 432x288 with 1 Axes>"
      ]
     },
     "metadata": {},
     "output_type": "display_data"
    },
    {
     "name": "stdout",
     "output_type": "stream",
     "text": [
      "                   m       v       e |  sens   acc\n",
      "music         221021   22231     394 |  0.91  0.97\n",
      "voice           2852  232877    8518 |  0.95  0.95\n",
      "environment      836    6359  259241 |  0.97  0.98\n",
      "--------------------------------------\n",
      "prec            0.98    0.89    0.97\n",
      "\n",
      "F1 overall: 0.94\n",
      "F1 music: 0.94\n",
      "F1 voice: 0.92\n",
      "F1 environment: 0.97\n",
      "\n"
     ]
    }
   ],
   "source": [
    "for layers in layersList:\n",
    "    LOG_HEADER(logPrefix + ', lagen: {}'.format(str(layers)), True)\n",
    "    train_and_evaluate_model(X_train, Y_train, realTrainClasses, \n",
    "                                 layers, nrEpochs, modelFilePath, baseModelFilename,\n",
    "                                batch_size=bSize)"
   ]
  },
  {
   "cell_type": "raw",
   "metadata": {
    "scrolled": true
   },
   "source": [
    "# Test alle modellen\n",
    "testModellen(modelFilePath=storageFolder, \n",
    "             layerss=layersList, \n",
    "             micNr=4, \n",
    "             testFileNames=['testData_G428', 'testData_G527', 'testData_Studio'], \n",
    "             showOverall=True)                "
   ]
  },
  {
   "cell_type": "code",
   "execution_count": 23,
   "metadata": {},
   "outputs": [
    {
     "name": "stdout",
     "output_type": "stream",
     "text": [
      "####################################\n",
      "#\n",
      "# Orgs G428 en G527, lagen: [400, 250, 100, 20]\n",
      "#\n",
      "####################################\n",
      "\n",
      "Start: 13:11:08\n",
      "=================\n",
      "Epoch 1/5\n",
      "754329/754329 [==============================] - 3s 4us/step - loss: 1.3098 - acc: 0.3238\n",
      "Epoch 2/5\n",
      "754329/754329 [==============================] - 3s 3us/step - loss: 1.0467 - acc: 0.2591\n",
      "Epoch 3/5\n",
      "754329/754329 [==============================] - 3s 3us/step - loss: 0.9745 - acc: 0.4834\n",
      "Epoch 4/5\n",
      "754329/754329 [==============================] - 3s 3us/step - loss: 0.9305 - acc: 0.5232\n",
      "Epoch 5/5\n",
      "754329/754329 [==============================] - 3s 3us/step - loss: 0.8975 - acc: 0.5549\n",
      "\n",
      "=================\n",
      "End: 13:11:21\n",
      "Time taken: \n",
      "0:00:13.829850\n",
      "\n"
     ]
    },
    {
     "data": {
      "image/png": "[encoded data removed]",
      "text/plain": [
       "<Figure size 432x288 with 1 Axes>"
      ]
     },
     "metadata": {},
     "output_type": "display_data"
    },
    {
     "name": "stdout",
     "output_type": "stream",
     "text": [
      "                   m       v       e |  sens   acc\n",
      "music         242926       0     720 |  1.00  0.70\n",
      "voice         157464       0   86783 |  0.00  0.68\n",
      "environment    70096       0  196340 |  0.74  0.79\n",
      "--------------------------------------\n",
      "prec            0.52    0.00    0.69\n",
      "\n",
      "F1 overall: 0.46\n",
      "F1 music: 0.68\n",
      "F1 voice: 0.00\n",
      "F1 environment: 0.71\n",
      "\n"
     ]
    }
   ],
   "source": [
    "layersList = [[400, 250, 100, 20]]\n",
    "nrEpochs = 5\n",
    "nrsEpochs = range(1, nrEpochs + 1)\n",
    "bSize = 800000\n",
    "for layers in layersList:\n",
    "    LOG_HEADER(logPrefix + ', lagen: {}'.format(str(layers)), True)\n",
    "    train_and_evaluate_model(X_train, Y_train, realTrainClasses, \n",
    "                                 layers, nrEpochs, modelFilePath, baseModelFilename,\n",
    "                                batch_size=bSize)"
   ]
  },
  {
   "cell_type": "code",
   "execution_count": 24,
   "metadata": {},
   "outputs": [
    {
     "name": "stdout",
     "output_type": "stream",
     "text": [
      "####################################\n",
      "#\n",
      "# Orgs G428 en G527, lagen: [400, 250, 100, 20]\n",
      "#\n",
      "####################################\n",
      "\n",
      "Start: 13:12:00\n",
      "=================\n",
      "Epoch 1/5\n",
      "754329/754329 [==============================] - 25s 32us/step - loss: 0.1332 - acc: 0.9503\n",
      "Epoch 2/5\n",
      "754329/754329 [==============================] - 24s 32us/step - loss: 0.0812 - acc: 0.9694\n",
      "Epoch 3/5\n",
      "754329/754329 [==============================] - 24s 31us/step - loss: 0.0705 - acc: 0.9732\n",
      "Epoch 4/5\n",
      "754329/754329 [==============================] - 24s 32us/step - loss: 0.0640 - acc: 0.9758\n",
      "Epoch 5/5\n",
      "754329/754329 [==============================] - 24s 32us/step - loss: 0.0608 - acc: 0.9768\n",
      "\n",
      "=================\n",
      "End: 13:14:00\n",
      "Time taken: \n",
      "0:02:00.209036\n",
      "\n"
     ]
    },
    {
     "data": {
      "image/png": "[encoded data removed]",
      "text/plain": [
       "<Figure size 432x288 with 1 Axes>"
      ]
     },
     "metadata": {},
     "output_type": "display_data"
    },
    {
     "name": "stdout",
     "output_type": "stream",
     "text": [
      "                   m       v       e |  sens   acc\n",
      "music         238727    4703     216 |  0.98  0.99\n",
      "voice           6163  234637    3447 |  0.96  0.98\n",
      "environment      212    2097  264127 |  0.99  0.99\n",
      "--------------------------------------\n",
      "prec            0.97    0.97    0.99\n",
      "\n",
      "F1 overall: 0.98\n",
      "F1 music: 0.98\n",
      "F1 voice: 0.97\n",
      "F1 environment: 0.99\n",
      "\n"
     ]
    }
   ],
   "source": [
    "bSize = 128\n",
    "for layers in layersList:\n",
    "    LOG_HEADER(logPrefix + ', lagen: {}'.format(str(layers)), True)\n",
    "    train_and_evaluate_model(X_train, Y_train, realTrainClasses, \n",
    "                                 layers, nrEpochs, modelFilePath, baseModelFilename,\n",
    "                                batch_size=bSize)"
   ]
  },
  {
   "cell_type": "code",
   "execution_count": 25,
   "metadata": {},
   "outputs": [
    {
     "name": "stdout",
     "output_type": "stream",
     "text": [
      "####################################\n",
      "#\n",
      "# Orgs G428 en G527, lagen: [400, 250, 100, 20]\n",
      "#\n",
      "####################################\n",
      "\n",
      "Start: 13:15:05\n",
      "=================\n",
      "Epoch 1/5\n",
      "754329/754329 [==============================] - 5s 6us/step - loss: 0.2390 - acc: 0.9121\n",
      "Epoch 2/5\n",
      "754329/754329 [==============================] - 4s 5us/step - loss: 0.1242 - acc: 0.9544\n",
      "Epoch 3/5\n",
      "754329/754329 [==============================] - 4s 5us/step - loss: 0.0996 - acc: 0.9628\n",
      "Epoch 4/5\n",
      "754329/754329 [==============================] - 4s 5us/step - loss: 0.0844 - acc: 0.9682\n",
      "Epoch 5/5\n",
      "754329/754329 [==============================] - 4s 5us/step - loss: 0.0767 - acc: 0.9711\n",
      "\n",
      "=================\n",
      "End: 13:15:26\n",
      "Time taken: \n",
      "0:00:21.638868\n",
      "\n"
     ]
    },
    {
     "data": {
      "image/png": "[encoded data removed]",
      "text/plain": [
       "<Figure size 432x288 with 1 Axes>"
      ]
     },
     "metadata": {},
     "output_type": "display_data"
    },
    {
     "name": "stdout",
     "output_type": "stream",
     "text": [
      "                   m       v       e |  sens   acc\n",
      "music         233843    9641     162 |  0.96  0.98\n",
      "voice           2951  238580    2716 |  0.98  0.97\n",
      "environment      341    5344  260751 |  0.98  0.99\n",
      "--------------------------------------\n",
      "prec            0.99    0.94    0.99\n",
      "\n",
      "F1 overall: 0.97\n",
      "F1 music: 0.97\n",
      "F1 voice: 0.96\n",
      "F1 environment: 0.98\n",
      "\n"
     ]
    }
   ],
   "source": [
    "bSize = 2048\n",
    "for layers in layersList:\n",
    "    LOG_HEADER(logPrefix + ', lagen: {}'.format(str(layers)), True)\n",
    "    train_and_evaluate_model(X_train, Y_train, realTrainClasses, \n",
    "                                 layers, nrEpochs, modelFilePath, baseModelFilename,\n",
    "                                batch_size=bSize)"
   ]
  },
  {
   "cell_type": "code",
   "execution_count": 26,
   "metadata": {},
   "outputs": [
    {
     "name": "stdout",
     "output_type": "stream",
     "text": [
      "####################################\n",
      "#\n",
      "# Orgs G428 en G527, lagen: [400, 250, 100, 20]\n",
      "#\n",
      "####################################\n",
      "\n",
      "Start: 13:16:13\n",
      "=================\n",
      "Epoch 1/10\n",
      "754329/754329 [==============================] - 5s 6us/step - loss: 0.2463 - acc: 0.9049\n",
      "Epoch 2/10\n",
      "754329/754329 [==============================] - 4s 5us/step - loss: 0.1294 - acc: 0.9530\n",
      "Epoch 3/10\n",
      "754329/754329 [==============================] - 4s 5us/step - loss: 0.1043 - acc: 0.9615\n",
      "Epoch 4/10\n",
      "754329/754329 [==============================] - 4s 5us/step - loss: 0.0899 - acc: 0.9664\n",
      "Epoch 5/10\n",
      "754329/754329 [==============================] - 4s 5us/step - loss: 0.0797 - acc: 0.9700\n",
      "Epoch 6/10\n",
      "754329/754329 [==============================] - 4s 5us/step - loss: 0.0722 - acc: 0.9727\n",
      "Epoch 7/10\n",
      "754329/754329 [==============================] - 4s 5us/step - loss: 0.0667 - acc: 0.9747\n",
      "Epoch 8/10\n",
      "754329/754329 [==============================] - 4s 5us/step - loss: 0.0643 - acc: 0.9757\n",
      "Epoch 9/10\n",
      "754329/754329 [==============================] - 4s 5us/step - loss: 0.0602 - acc: 0.9771\n",
      "Epoch 10/10\n",
      "754329/754329 [==============================] - 4s 5us/step - loss: 0.0587 - acc: 0.9778\n",
      "\n",
      "=================\n",
      "End: 13:16:55\n",
      "Time taken: \n",
      "0:00:42.132882\n",
      "\n"
     ]
    },
    {
     "data": {
      "image/png": "[encoded data removed]",
      "text/plain": [
       "<Figure size 432x288 with 1 Axes>"
      ]
     },
     "metadata": {},
     "output_type": "display_data"
    },
    {
     "name": "stdout",
     "output_type": "stream",
     "text": [
      "                   m       v       e |  sens   acc\n",
      "music         238821    4684     141 |  0.98  0.99\n",
      "voice           4685  236484    3078 |  0.97  0.98\n",
      "environment      183    3091  263162 |  0.99  0.99\n",
      "--------------------------------------\n",
      "prec            0.98    0.97    0.99\n",
      "\n",
      "F1 overall: 0.98\n",
      "F1 music: 0.98\n",
      "F1 voice: 0.97\n",
      "F1 environment: 0.99\n",
      "\n"
     ]
    }
   ],
   "source": [
    "nrEpochs = 10\n",
    "nrsEpochs = range(1, nrEpochs + 1)\n",
    "bSize = 2048\n",
    "for layers in layersList:\n",
    "    LOG_HEADER(logPrefix + ', lagen: {}'.format(str(layers)), True)\n",
    "    train_and_evaluate_model(X_train, Y_train, realTrainClasses, \n",
    "                                 layers, nrEpochs, modelFilePath, baseModelFilename,\n",
    "                                batch_size=bSize)"
   ]
  },
  {
   "cell_type": "code",
   "execution_count": 30,
   "metadata": {},
   "outputs": [
    {
     "name": "stdout",
     "output_type": "stream",
     "text": [
      "####################################\n",
      "#\n",
      "# 20180829_speedTest_400_250_100_20ep10\n",
      "# mic4\n",
      "# testData_G428\n",
      "#\n",
      "####################################\n",
      "\n",
      "                   m       v       e |  sens   acc\n",
      "music          19793     807      39 |  0.96  0.97\n",
      "voice            454   13781     201 |  0.95  0.97\n",
      "environment       16     143   13066 |  0.99  0.99\n",
      "--------------------------------------\n",
      "prec            0.98    0.94    0.98\n",
      "\n",
      "F1 overall: 0.97\n",
      "F1 music: 0.97\n",
      "F1 voice: 0.94\n",
      "F1 environment: 0.98\n",
      "\n",
      "####################################\n",
      "#\n",
      "# 20180829_speedTest_400_250_100_20ep10\n",
      "# mic4\n",
      "# testData_G527\n",
      "#\n",
      "####################################\n",
      "\n",
      "                   m       v       e |  sens   acc\n",
      "music           8797     117       3 |  0.99  0.98\n",
      "voice            110    2751       5 |  0.96  0.98\n",
      "environment        0       3    2488 |  1.00  1.00\n",
      "--------------------------------------\n",
      "prec            0.99    0.96    1.00\n",
      "\n",
      "F1 overall: 0.98\n",
      "F1 music: 0.99\n",
      "F1 voice: 0.96\n",
      "F1 environment: 1.00\n",
      "\n",
      "####################################\n",
      "#\n",
      "# 20180829_speedTest_400_250_100_20ep10\n",
      "# mic4\n",
      "# testData_Studio\n",
      "#\n",
      "####################################\n",
      "\n",
      "                   m       v       e |  sens   acc\n",
      "music          45844   15628    2123 |  0.72  0.87\n",
      "voice            662   36053    1189 |  0.95  0.86\n",
      "environment       17    1960   40360 |  0.95  0.96\n",
      "--------------------------------------\n",
      "prec            0.99    0.67    0.92\n",
      "\n",
      "F1 overall: 0.85\n",
      "F1 music: 0.83\n",
      "F1 voice: 0.79\n",
      "F1 environment: 0.94\n",
      "\n",
      "####################################\n",
      "#\n",
      "# 20180829_speedTest_400_250_100_20ep10\n",
      "# mic4\n",
      "# testData_Overall\n",
      "#\n",
      "####################################\n",
      "\n",
      "                   m       v       e |  sens   acc\n",
      "music           0.89    0.10    0.01 |  0.89  0.95\n",
      "voice           0.03    0.96    0.02 |  0.96  0.95\n",
      "environment     0.00    0.02    0.98 |  0.98  0.98\n",
      "--------------------------------------\n",
      "prec            0.97    0.89    0.97\n",
      "\n",
      "F1 overall: 0.94\n",
      "F1 music: 0.93\n",
      "F1 voice: 0.92\n",
      "F1 environment: 0.98\n",
      "\n"
     ]
    }
   ],
   "source": [
    "# Test alle modellen\n",
    "testModel(modelFilePath=storageFolder, \n",
    "             layers=layers, \n",
    "             micNr=4, \n",
    "             testFileNames=['testData_G428', 'testData_G527', 'testData_Studio'],\n",
    "             nrEpochs=nrEpochs,\n",
    "             showOverall=True)   "
   ]
  },
  {
   "cell_type": "code",
   "execution_count": null,
   "metadata": {},
   "outputs": [],
   "source": []
  }
 ],
 "metadata": {
  "kernelspec": {
   "display_name": "Python 3",
   "language": "python",
   "name": "python3"
  },
  "language_info": {
   "codemirror_mode": {
    "name": "ipython",
    "version": 3
   },
   "file_extension": ".py",
   "mimetype": "text/x-python",
   "name": "python",
   "nbconvert_exporter": "python",
   "pygments_lexer": "ipython3",
   "version": "3.6.5"
  },
  "varInspector": {
   "cols": {
    "lenName": 16,
    "lenType": 16,
    "lenVar": 40
   },
   "kernels_config": {
    "python": {
     "delete_cmd_postfix": "",
     "delete_cmd_prefix": "del ",
     "library": "var_list.py",
     "varRefreshCmd": "print(var_dic_list())"
    },
    "r": {
     "delete_cmd_postfix": ") ",
     "delete_cmd_prefix": "rm(",
     "library": "var_list.r",
     "varRefreshCmd": "cat(var_dic_list()) "
    }
   },
   "position": {
    "height": "251px",
    "left": "448.415px",
    "right": "20px",
    "top": "98.9773px",
    "width": "579px"
   },
   "types_to_exclude": [
    "module",
    "function",
    "builtin_function_or_method",
    "instance",
    "_Feature"
   ],
   "window_display": false
  }
 },
 "nbformat": 4,
 "nbformat_minor": 2
}

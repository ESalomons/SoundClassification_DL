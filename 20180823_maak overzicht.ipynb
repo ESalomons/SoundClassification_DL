{
 "cells": [
  {
   "cell_type": "code",
   "execution_count": 20,
   "metadata": {},
   "outputs": [],
   "source": [
    "import glob"
   ]
  },
  {
   "cell_type": "code",
   "execution_count": 43,
   "metadata": {},
   "outputs": [],
   "source": [
    "experiments = [\n",
    "    '20180823_redoAllOrgs',\n",
    "    '20180824_redoAllOrgs_dropout',\n",
    "    '20180822_allOrgs_norm'\n",
    "]\n",
    "\n",
    "titlename = 'Overall resultaten bij model all orgs met dropout en norm '\n",
    "htmlFilename = 'plots/1_overzichten/allOrgs_dropout_norm_Overall.html'\n",
    "kamer = 'Overall'\n",
    "classes = ['overall', 'environment', 'music', 'voice']"
   ]
  },
  {
   "cell_type": "code",
   "execution_count": 44,
   "metadata": {},
   "outputs": [],
   "source": [
    "nrPicsInRow = len(experiments)\n",
    "expFileNames = {}\n",
    "for exp in experiments:\n",
    "    expFileNames[exp] = []\n",
    "    for picname in list(glob.glob('plots/{}/*.png'.format(exp))):\n",
    "        expFileNames[exp].append(picname.replace('\\\\','/').replace(' ','%20'))\n",
    "        \n",
    "with open(htmlFilename, 'w') as htmlFile:\n",
    "    htmlFile.write('<html><head><title>' + titlename + '</title>\\n')\n",
    "    htmlFile.write('<body><H1>' + titlename + '</H1>\\n')\n",
    "    htmlFile.write('\\n<table width=\"100%\">')\n",
    "    htmlFile.write('\\n<STYLE TYPE=\"text/css\">\\n'\n",
    "                   '<!--\\n'\n",
    "                   'TD{font-family: Arial; font-size: 16pt; font-weight:bold;}\\n'\n",
    "                   '--->\\n'\n",
    "                   '</STYLE>\\n')\n",
    "    body = ''\n",
    "    body += '\\n<tr>'\n",
    "    \n",
    "    for exp in experiments:\n",
    "        body += '\\n\\t<td><H4>' + exp + '</H4></td>'\n",
    "    body += '\\n</tr>'\n",
    "    \n",
    "    for clz in classes:\n",
    "        body += '\\n<tr>'\n",
    "        \n",
    "        for exp in experiments:\n",
    "            # zoek de betreffende file; beetje dom, maar dit is om verschillen\n",
    "            # in dirnamen en filenamen te kunnen handelen\n",
    "            plotname = 'dummy.png'\n",
    "            for pn in expFileNames[exp]:\n",
    "                if (clz in pn) and (kamer in pn):\n",
    "                    plotname = pn.replace('plots','..')\n",
    "            body += '\\n\\t<td><img src=\"' + plotname \\\n",
    "                      + '\" style=\"width:100%;\"/></td>'\n",
    "        \n",
    "        body += '\\n</tr>'\n",
    "\n",
    "    htmlFile.write(body)\n",
    "    htmlFile.write('\\n</table>\\n</body></html>' + '\\n')\n",
    "\n",
    "\n"
   ]
  },
  {
   "cell_type": "code",
   "execution_count": null,
   "metadata": {},
   "outputs": [],
   "source": []
  }
 ],
 "metadata": {
  "kernelspec": {
   "display_name": "Python 3",
   "language": "python",
   "name": "python3"
  },
  "language_info": {
   "codemirror_mode": {
    "name": "ipython",
    "version": 3
   },
   "file_extension": ".py",
   "mimetype": "text/x-python",
   "name": "python",
   "nbconvert_exporter": "python",
   "pygments_lexer": "ipython3",
   "version": "3.6.5"
  },
  "varInspector": {
   "cols": {
    "lenName": 16,
    "lenType": 16,
    "lenVar": 40
   },
   "kernels_config": {
    "python": {
     "delete_cmd_postfix": "",
     "delete_cmd_prefix": "del ",
     "library": "var_list.py",
     "varRefreshCmd": "print(var_dic_list())"
    },
    "r": {
     "delete_cmd_postfix": ") ",
     "delete_cmd_prefix": "rm(",
     "library": "var_list.r",
     "varRefreshCmd": "cat(var_dic_list()) "
    }
   },
   "types_to_exclude": [
    "module",
    "function",
    "builtin_function_or_method",
    "instance",
    "_Feature"
   ],
   "window_display": false
  }
 },
 "nbformat": 4,
 "nbformat_minor": 2
}

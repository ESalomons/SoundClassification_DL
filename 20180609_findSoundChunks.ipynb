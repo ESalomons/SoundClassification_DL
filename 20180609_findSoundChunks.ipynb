{
 "cells": [
  {
   "cell_type": "code",
   "execution_count": 1,
   "metadata": {},
   "outputs": [],
   "source": [
    "%reload_ext autoreload\n",
    "import wave\n",
    "import os\n",
    "import numpy as np\n",
    "import itertools\n",
    "import op\n",
    "from util import WavFileParts\n"
   ]
  },
  {
   "cell_type": "code",
   "execution_count": 2,
   "metadata": {},
   "outputs": [],
   "source": [
    "## defs\n",
    "alpha = 0.005\n",
    "thresholdFactor = 1\n",
    "minimalSoundTime = 0.15\n",
    "\n",
    "correlatedTimeDiffThreshold = 0.025  # ~8.5 m\n",
    "onlySkipOldestPointForCorrelation = False"
   ]
  },
  {
   "cell_type": "code",
   "execution_count": 3,
   "metadata": {},
   "outputs": [],
   "source": [
    "def lowpass(signal):\n",
    "    lowpassSig = [0] * len(signal)\n",
    "    lowpassSig[0] = abs(signal[0])\n",
    "    abssigTimesAlpha = alpha * np.array(abs(signal))\n",
    "\n",
    "    for i in range(1, len(abssigTimesAlpha)):\n",
    "        lowpassSig[i] = (abssigTimesAlpha[i] + (1 - alpha) * lowpassSig[i - 1])\n",
    "    return lowpassSig"
   ]
  },
  {
   "cell_type": "code",
   "execution_count": 4,
   "metadata": {},
   "outputs": [],
   "source": [
    "def getSoundThresholdFromSignal(signal):\n",
    "    lpsig = lowpass(signal)\n",
    "    return thresholdFactor * np.max(lpsig)"
   ]
  },
  {
   "cell_type": "code",
   "execution_count": 5,
   "metadata": {},
   "outputs": [],
   "source": [
    "def getSoundThresholdFromFile(filename, start, end):\n",
    "    wavFile = wave.open(filename, 'rb')\n",
    "    framerate = wavFile.getframerate()\n",
    "    startIndex = int(2 * start * framerate)\n",
    "    endIndex = int(2 * end * framerate)\n",
    "    signal = np.fromstring(wavFile.readframes(endIndex)[startIndex: endIndex], np.int16)\n",
    "    wavFile.close()\n",
    "    return getSoundThresholdFromSignal(signal)"
   ]
  },
  {
   "cell_type": "code",
   "execution_count": 6,
   "metadata": {},
   "outputs": [],
   "source": [
    "def determineThresholds(microphones,\n",
    "                        datasetDir='/Volumes/SAA_DATA/datasets/localizationRecordings/20160919',\n",
    "                        fileDate=160919,\n",
    "                        fileNum=218,\n",
    "                        silenceStart=1,\n",
    "                        silenceEnd=5\n",
    "                        ):\n",
    "    thresholds = {}\n",
    "\n",
    "    filename = datasetDir + '/{:d}_{:d}'.format(fileDate, fileNum) + '_mono{:d}.wav'\n",
    "\n",
    "    for microphone in microphones:\n",
    "        wavFileName = filename.format(microphone)\n",
    "        soundThreshold = getSoundThresholdFromFile(wavFileName, silenceStart, silenceEnd)\n",
    "        thresholds[microphone] = soundThreshold\n",
    "\n",
    "    return thresholds"
   ]
  },
  {
   "cell_type": "code",
   "execution_count": 17,
   "metadata": {},
   "outputs": [
    {
     "name": "stdout",
     "output_type": "stream",
     "text": [
      "[0 1 2 5 8]\n",
      "[(0, 0), (1, 1), (2, 2), (3, 5), (4, 8)]\n",
      "<itertools.groupby object at 0x0000024A16FD3EA8>\n",
      "0\n",
      "-2\n",
      "-4\n"
     ]
    }
   ],
   "source": [
    "def funcLmb(v):\n",
    "    return v[0] - v[1]\n",
    "\n",
    "lpSig = np.array([3,4,6,2,1,6,2,2,5])\n",
    "indices = np.array(range(len(lpSig)))\n",
    "indices = indices[lpSig > 2]\n",
    "print(indices)\n",
    "# enumerate maakt lijstje met plek in lijst en item zelf\n",
    "print(list(enumerate(indices)))\n",
    "print(itertools.groupby(enumerate(indices), key=funcLmb))\n",
    "ig = itertools.groupby(enumerate(indices), key=funcLmb)\n",
    "for v,a in ig:\n",
    "    print(v)"
   ]
  },
  {
   "cell_type": "code",
   "execution_count": 18,
   "metadata": {},
   "outputs": [],
   "source": [
    "def funcLmb(v):\n",
    "    return v[0] - v[1]\n",
    "\n",
    "def getSoundChunkIndices(signal, threshold):\n",
    "    lpSig = lowpass(signal)\n",
    "    indices = np.array(range(len(signal)))\n",
    "    indices = indices[lpSig > threshold]\n",
    "\n",
    "    soundIndexList = []\n",
    "    for k, g in itertools.groupby(enumerate(indices),funcLmb):\n",
    "        soundIndexList.append(map(operator.itemgetter(1), g))\n",
    "\n",
    "    chunkIndices = []\n",
    "\n",
    "    for chunk in soundIndexList:\n",
    "        if len(chunk) > 1:\n",
    "            chunkIndices.append([chunk[0], chunk[-1]])\n",
    "\n",
    "    return chunkIndices"
   ]
  },
  {
   "cell_type": "code",
   "execution_count": 19,
   "metadata": {},
   "outputs": [],
   "source": [
    "def getSoundChunks(filename, start, end, soundThreshold):\n",
    "    timeChunks = []\n",
    "    wavFile = wave.open(filename, 'rb')\n",
    "    wavFile.rewind()\n",
    "    nFrames = wavFile.getnframes()\n",
    "    framerate = wavFile.getframerate()\n",
    "    signal = np.fromstring(\n",
    "        wavFile.readframes(int(end * framerate))[int(start * 2 * framerate):int(end * 2 * framerate)],\n",
    "        np.int16)  # 2* framerate, because conversion int16\n",
    "    wavFile.close()\n",
    "\n",
    "    soundChunks = getSoundChunkIndices(signal, soundThreshold)\n",
    "    nr = 1\n",
    "\n",
    "    for chunk in soundChunks:\n",
    "        startTime = chunk[0] * 1.0 / framerate + start\n",
    "        endTime = chunk[1] * 1.0 / framerate + start\n",
    "\n",
    "        if endTime - startTime > minimalSoundTime:\n",
    "            timeChunks.append([startTime, endTime])\n",
    "\n",
    "    return timeChunks"
   ]
  },
  {
   "cell_type": "code",
   "execution_count": 20,
   "metadata": {},
   "outputs": [],
   "source": [
    "def findAndSaveSoundChunks(fileparts,\n",
    "                           dirName='/Users/etto/Dropbox/git/wavLocalization/results',\n",
    "                           datasetDir='/Volumes/SAA_DATA/datasets/localizationRecordings/20160919',\n",
    "                           fileDate=160919,\n",
    "                           thresholdFileNum=218,\n",
    "                           thrSilenceStart=1,\n",
    "                           thrSilenceEnd=5):\n",
    "    \"\"\"\n",
    "    print soundchunks in json format\n",
    "    store the printout in results/soundchunks.py\n",
    "    :return:\n",
    "    \"\"\"\n",
    "    microphones = [1, 2, 3, 4]\n",
    "\n",
    "    # determine thresholds\n",
    "    thresholds = determineThresholds(microphones, datasetDir=datasetDir,\n",
    "                                     fileDate=fileDate, fileNum=thresholdFileNum,\n",
    "                                     silenceStart=thrSilenceStart, silenceEnd=thrSilenceEnd\n",
    "                                     )  # dictionary: int -> float\n",
    "\n",
    "    if not os.path.isdir(dirName):\n",
    "        os.mkdir(dirName)\n",
    "\n",
    "    filename = dirName + '/soundChunks.py'\n",
    "    # filename = 'dummy'  # to prevent accidental overwriting soundChunks\n",
    "    with open(filename, 'w') as out:\n",
    "        out.write('soundChunks = [\\n')\n",
    "        for filepart in fileparts:  # type: WavFilePart\n",
    "            for microphone in microphones:\n",
    "                filename = datasetDir + '/{:d}_{:d}_mono{:d}.wav'.format(fileDate, filepart.fileNr, microphone)\n",
    "                chunks = getSoundChunks(filename, filepart.getStartSecs(), filepart.getEndSecs(),\n",
    "                                                            thresholds[microphone])\n",
    "                filepart.setSoundChunks(microphone, chunks)\n",
    "            out.write(filepart.toJSON())\n",
    "            print('written ' + str(filepart))\n",
    "            out.write(',\\n')\n",
    "        out.write(']\\n')\n",
    "\n",
    "    open(dirName + '/__init__.py', 'w').close()"
   ]
  },
  {
   "cell_type": "code",
   "execution_count": 21,
   "metadata": {},
   "outputs": [
    {
     "ename": "NameError",
     "evalue": "name 'operator' is not defined",
     "output_type": "error",
     "traceback": [
      "\u001b[1;31m---------------------------------------------------------------------------\u001b[0m",
      "\u001b[1;31mNameError\u001b[0m                                 Traceback (most recent call last)",
      "\u001b[1;32m<ipython-input-21-96091f36f201>\u001b[0m in \u001b[0;36m<module>\u001b[1;34m()\u001b[0m\n\u001b[0;32m     22\u001b[0m                                \u001b[0mthresholdFileNum\u001b[0m\u001b[1;33m,\u001b[0m\u001b[1;33m\u001b[0m\u001b[0m\n\u001b[0;32m     23\u001b[0m                                \u001b[0mthrSilenceStart\u001b[0m\u001b[1;33m,\u001b[0m\u001b[1;33m\u001b[0m\u001b[0m\n\u001b[1;32m---> 24\u001b[1;33m                                thrSilenceEnd)\n\u001b[0m\u001b[0;32m     25\u001b[0m \u001b[1;33m\u001b[0m\u001b[0m\n\u001b[0;32m     26\u001b[0m \u001b[1;33m\u001b[0m\u001b[0m\n",
      "\u001b[1;32m<ipython-input-20-5c65dd2cef08>\u001b[0m in \u001b[0;36mfindAndSaveSoundChunks\u001b[1;34m(fileparts, dirName, datasetDir, fileDate, thresholdFileNum, thrSilenceStart, thrSilenceEnd)\u001b[0m\n\u001b[0;32m     30\u001b[0m                 \u001b[0mfilename\u001b[0m \u001b[1;33m=\u001b[0m \u001b[0mdatasetDir\u001b[0m \u001b[1;33m+\u001b[0m \u001b[1;34m'/{:d}_{:d}_mono{:d}.wav'\u001b[0m\u001b[1;33m.\u001b[0m\u001b[0mformat\u001b[0m\u001b[1;33m(\u001b[0m\u001b[0mfileDate\u001b[0m\u001b[1;33m,\u001b[0m \u001b[0mfilepart\u001b[0m\u001b[1;33m.\u001b[0m\u001b[0mfileNr\u001b[0m\u001b[1;33m,\u001b[0m \u001b[0mmicrophone\u001b[0m\u001b[1;33m)\u001b[0m\u001b[1;33m\u001b[0m\u001b[0m\n\u001b[0;32m     31\u001b[0m                 chunks = getSoundChunks(filename, filepart.getStartSecs(), filepart.getEndSecs(),\n\u001b[1;32m---> 32\u001b[1;33m                                                             thresholds[microphone])\n\u001b[0m\u001b[0;32m     33\u001b[0m                 \u001b[0mfilepart\u001b[0m\u001b[1;33m.\u001b[0m\u001b[0msetSoundChunks\u001b[0m\u001b[1;33m(\u001b[0m\u001b[0mmicrophone\u001b[0m\u001b[1;33m,\u001b[0m \u001b[0mchunks\u001b[0m\u001b[1;33m)\u001b[0m\u001b[1;33m\u001b[0m\u001b[0m\n\u001b[0;32m     34\u001b[0m             \u001b[0mout\u001b[0m\u001b[1;33m.\u001b[0m\u001b[0mwrite\u001b[0m\u001b[1;33m(\u001b[0m\u001b[0mfilepart\u001b[0m\u001b[1;33m.\u001b[0m\u001b[0mtoJSON\u001b[0m\u001b[1;33m(\u001b[0m\u001b[1;33m)\u001b[0m\u001b[1;33m)\u001b[0m\u001b[1;33m\u001b[0m\u001b[0m\n",
      "\u001b[1;32m<ipython-input-19-16956864af01>\u001b[0m in \u001b[0;36mgetSoundChunks\u001b[1;34m(filename, start, end, soundThreshold)\u001b[0m\n\u001b[0;32m     10\u001b[0m     \u001b[0mwavFile\u001b[0m\u001b[1;33m.\u001b[0m\u001b[0mclose\u001b[0m\u001b[1;33m(\u001b[0m\u001b[1;33m)\u001b[0m\u001b[1;33m\u001b[0m\u001b[0m\n\u001b[0;32m     11\u001b[0m \u001b[1;33m\u001b[0m\u001b[0m\n\u001b[1;32m---> 12\u001b[1;33m     \u001b[0msoundChunks\u001b[0m \u001b[1;33m=\u001b[0m \u001b[0mgetSoundChunkIndices\u001b[0m\u001b[1;33m(\u001b[0m\u001b[0msignal\u001b[0m\u001b[1;33m,\u001b[0m \u001b[0msoundThreshold\u001b[0m\u001b[1;33m)\u001b[0m\u001b[1;33m\u001b[0m\u001b[0m\n\u001b[0m\u001b[0;32m     13\u001b[0m     \u001b[0mnr\u001b[0m \u001b[1;33m=\u001b[0m \u001b[1;36m1\u001b[0m\u001b[1;33m\u001b[0m\u001b[0m\n\u001b[0;32m     14\u001b[0m \u001b[1;33m\u001b[0m\u001b[0m\n",
      "\u001b[1;32m<ipython-input-18-3b2fb8e1c29c>\u001b[0m in \u001b[0;36mgetSoundChunkIndices\u001b[1;34m(signal, threshold)\u001b[0m\n\u001b[0;32m      9\u001b[0m     \u001b[0msoundIndexList\u001b[0m \u001b[1;33m=\u001b[0m \u001b[1;33m[\u001b[0m\u001b[1;33m]\u001b[0m\u001b[1;33m\u001b[0m\u001b[0m\n\u001b[0;32m     10\u001b[0m     \u001b[1;32mfor\u001b[0m \u001b[0mk\u001b[0m\u001b[1;33m,\u001b[0m \u001b[0mg\u001b[0m \u001b[1;32min\u001b[0m \u001b[0mitertools\u001b[0m\u001b[1;33m.\u001b[0m\u001b[0mgroupby\u001b[0m\u001b[1;33m(\u001b[0m\u001b[0menumerate\u001b[0m\u001b[1;33m(\u001b[0m\u001b[0mindices\u001b[0m\u001b[1;33m)\u001b[0m\u001b[1;33m,\u001b[0m\u001b[0mfuncLmb\u001b[0m\u001b[1;33m)\u001b[0m\u001b[1;33m:\u001b[0m\u001b[1;33m\u001b[0m\u001b[0m\n\u001b[1;32m---> 11\u001b[1;33m         \u001b[0msoundIndexList\u001b[0m\u001b[1;33m.\u001b[0m\u001b[0mappend\u001b[0m\u001b[1;33m(\u001b[0m\u001b[0mmap\u001b[0m\u001b[1;33m(\u001b[0m\u001b[0moperator\u001b[0m\u001b[1;33m.\u001b[0m\u001b[0mitemgetter\u001b[0m\u001b[1;33m(\u001b[0m\u001b[1;36m1\u001b[0m\u001b[1;33m)\u001b[0m\u001b[1;33m,\u001b[0m \u001b[0mg\u001b[0m\u001b[1;33m)\u001b[0m\u001b[1;33m)\u001b[0m\u001b[1;33m\u001b[0m\u001b[0m\n\u001b[0m\u001b[0;32m     12\u001b[0m \u001b[1;33m\u001b[0m\u001b[0m\n\u001b[0;32m     13\u001b[0m     \u001b[0mchunkIndices\u001b[0m \u001b[1;33m=\u001b[0m \u001b[1;33m[\u001b[0m\u001b[1;33m]\u001b[0m\u001b[1;33m\u001b[0m\u001b[0m\n",
      "\u001b[1;31mNameError\u001b[0m: name 'operator' is not defined"
     ]
    }
   ],
   "source": [
    "#def findSoundChunks20180609\n",
    "\n",
    "osRecordingsDir='/Volumes/SAA_DATA/datasets/localizationRecordings/'\n",
    "osRecordingsDir = 'E:/SAA_DATA/localizationRecordings/'\n",
    "\n",
    "scTargetBase = '../storedData/results'\n",
    "if not os.path.isdir(scTargetBase):\n",
    "    os.mkdir(scTargetBase)\n",
    "\n",
    "dirName = scTargetBase + '/Studio'\n",
    "datasetDir = osRecordingsDir + '20171011'\n",
    "fileDate = 170816\n",
    "thresholdFileNum = 745\n",
    "thrSilenceStart = 1\n",
    "thrSilenceEnd = 2.5\n",
    "\n",
    "wavFileParts = WavFileParts.getWavFileParts20171014_Studio()\n",
    "findAndSaveSoundChunks(wavFileParts,\n",
    "                               dirName,\n",
    "                               datasetDir,\n",
    "                               fileDate,\n",
    "                               thresholdFileNum,\n",
    "                               thrSilenceStart,\n",
    "                               thrSilenceEnd)\n",
    "\n",
    "\n",
    "dirName = scTargetBase + '/G428'\n",
    "datasetDir = osRecordingsDir + '20170221'\n",
    "fileDate = 170221\n",
    "thresholdFileNum = 542\n",
    "thrSilenceStart = 14\n",
    "thrSilenceEnd = 17\n",
    "wavFileParts = WavFileParts.getWavFileParts20170221_G4_28()\n",
    "\n",
    "findAndSaveSoundChunks(wavFileParts,\n",
    "                           dirName,\n",
    "                           datasetDir,\n",
    "                           fileDate,\n",
    "                           thresholdFileNum,\n",
    "                           thrSilenceStart,\n",
    "                           thrSilenceEnd)\n",
    "\n",
    "dirName = scTargetBase + '/G527'\n",
    "datasetDir = osRecordingsDir + '20170221'\n",
    "fileDate = 170221\n",
    "thresholdFileNum = 551\n",
    "thrSilenceStart = 10\n",
    "thrSilenceEnd = 15\n",
    "\n",
    "wavFileParts = WavFileParts.getWavFileParts20170221_G5_27()\n",
    "findAndSaveSoundChunks(wavFileParts,\n",
    "                           dirName,\n",
    "                           datasetDir,\n",
    "                           fileDate,\n",
    "                           thresholdFileNum,\n",
    "                           thrSilenceStart,\n",
    "                           thrSilenceEnd)\n"
   ]
  },
  {
   "cell_type": "code",
   "execution_count": null,
   "metadata": {},
   "outputs": [],
   "source": []
  }
 ],
 "metadata": {
  "kernelspec": {
   "display_name": "Python 3",
   "language": "python",
   "name": "python3"
  },
  "language_info": {
   "codemirror_mode": {
    "name": "ipython",
    "version": 3
   },
   "file_extension": ".py",
   "mimetype": "text/x-python",
   "name": "python",
   "nbconvert_exporter": "python",
   "pygments_lexer": "ipython3",
   "version": "3.6.5"
  }
 },
 "nbformat": 4,
 "nbformat_minor": 2
}
